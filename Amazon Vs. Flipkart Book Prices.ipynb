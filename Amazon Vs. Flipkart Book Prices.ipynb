{
 "cells": [
  {
   "cell_type": "code",
   "execution_count": 1,
   "id": "67e01548",
   "metadata": {},
   "outputs": [],
   "source": [
    "import pandas as pd\n",
    "import numpy as np\n",
    "import matplotlib.pyplot as plt\n",
    "import seaborn as sns"
   ]
  },
  {
   "cell_type": "code",
   "execution_count": 2,
   "id": "cecc18c3",
   "metadata": {},
   "outputs": [],
   "source": [
    "amazon = pd.read_csv(\"amazon.csv\")"
   ]
  },
  {
   "cell_type": "code",
   "execution_count": 3,
   "id": "280e4005",
   "metadata": {},
   "outputs": [
    {
     "data": {
      "text/html": [
       "<div>\n",
       "<style scoped>\n",
       "    .dataframe tbody tr th:only-of-type {\n",
       "        vertical-align: middle;\n",
       "    }\n",
       "\n",
       "    .dataframe tbody tr th {\n",
       "        vertical-align: top;\n",
       "    }\n",
       "\n",
       "    .dataframe thead th {\n",
       "        text-align: right;\n",
       "    }\n",
       "</style>\n",
       "<table border=\"1\" class=\"dataframe\">\n",
       "  <thead>\n",
       "    <tr style=\"text-align: right;\">\n",
       "      <th></th>\n",
       "      <th>amazon_title</th>\n",
       "      <th>amazon_author</th>\n",
       "      <th>amazon_rating</th>\n",
       "      <th>amazon_reviews count</th>\n",
       "      <th>amazon_isbn-10</th>\n",
       "      <th>amazon_price</th>\n",
       "    </tr>\n",
       "  </thead>\n",
       "  <tbody>\n",
       "    <tr>\n",
       "      <th>0</th>\n",
       "      <td>Tell Me your Dreams</td>\n",
       "      <td>by Sidney Sheldon</td>\n",
       "      <td>4.4</td>\n",
       "      <td>160.0</td>\n",
       "      <td>8172234902</td>\n",
       "      <td>209</td>\n",
       "    </tr>\n",
       "    <tr>\n",
       "      <th>1</th>\n",
       "      <td>The Boy in the Striped Pyjamas (Definitions)</td>\n",
       "      <td>by John Boyne</td>\n",
       "      <td>4.6</td>\n",
       "      <td>134.0</td>\n",
       "      <td>1862305277</td>\n",
       "      <td>350</td>\n",
       "    </tr>\n",
       "    <tr>\n",
       "      <th>2</th>\n",
       "      <td>Romancing the Balance Sheet: For Anyone Who Ow...</td>\n",
       "      <td>by Anil Lamba</td>\n",
       "      <td>4.5</td>\n",
       "      <td>156.0</td>\n",
       "      <td>9350294311</td>\n",
       "      <td>477</td>\n",
       "    </tr>\n",
       "    <tr>\n",
       "      <th>3</th>\n",
       "      <td>Mossad</td>\n",
       "      <td>by Michael Bar-Zohar - Import</td>\n",
       "      <td>4.6</td>\n",
       "      <td>637.0</td>\n",
       "      <td>8184958455</td>\n",
       "      <td>340</td>\n",
       "    </tr>\n",
       "    <tr>\n",
       "      <th>4</th>\n",
       "      <td>My Story</td>\n",
       "      <td>by Kamala Das</td>\n",
       "      <td>4.5</td>\n",
       "      <td>42.0</td>\n",
       "      <td>8172238975</td>\n",
       "      <td>178</td>\n",
       "    </tr>\n",
       "  </tbody>\n",
       "</table>\n",
       "</div>"
      ],
      "text/plain": [
       "                                        amazon_title  \\\n",
       "0                                Tell Me your Dreams   \n",
       "1       The Boy in the Striped Pyjamas (Definitions)   \n",
       "2  Romancing the Balance Sheet: For Anyone Who Ow...   \n",
       "3                                             Mossad   \n",
       "4                                           My Story   \n",
       "\n",
       "                   amazon_author amazon_rating amazon_reviews count  \\\n",
       "0              by Sidney Sheldon           4.4                160.0   \n",
       "1                  by John Boyne           4.6                134.0   \n",
       "2                  by Anil Lamba           4.5                156.0   \n",
       "3  by Michael Bar-Zohar - Import           4.6                637.0   \n",
       "4                  by Kamala Das           4.5                 42.0   \n",
       "\n",
       "   amazon_isbn-10  amazon_price  \n",
       "0      8172234902           209  \n",
       "1      1862305277           350  \n",
       "2      9350294311           477  \n",
       "3      8184958455           340  \n",
       "4      8172238975           178  "
      ]
     },
     "execution_count": 3,
     "metadata": {},
     "output_type": "execute_result"
    }
   ],
   "source": [
    "amazon.head() #first five rows"
   ]
  },
  {
   "cell_type": "code",
   "execution_count": 4,
   "id": "7e5a6c82",
   "metadata": {},
   "outputs": [
    {
     "data": {
      "text/plain": [
       "(1382, 6)"
      ]
     },
     "execution_count": 4,
     "metadata": {},
     "output_type": "execute_result"
    }
   ],
   "source": [
    "amazon.shape # Number of rows and columns"
   ]
  },
  {
   "cell_type": "code",
   "execution_count": 5,
   "id": "db166b82",
   "metadata": {},
   "outputs": [
    {
     "name": "stdout",
     "output_type": "stream",
     "text": [
      "<class 'pandas.core.frame.DataFrame'>\n",
      "RangeIndex: 1382 entries, 0 to 1381\n",
      "Data columns (total 6 columns):\n",
      " #   Column                Non-Null Count  Dtype \n",
      "---  ------                --------------  ----- \n",
      " 0   amazon_title          1382 non-null   object\n",
      " 1   amazon_author         1382 non-null   object\n",
      " 2   amazon_rating         1378 non-null   object\n",
      " 3   amazon_reviews count  1378 non-null   object\n",
      " 4   amazon_isbn-10        1382 non-null   int64 \n",
      " 5   amazon_price          1382 non-null   int64 \n",
      "dtypes: int64(2), object(4)\n",
      "memory usage: 64.9+ KB\n"
     ]
    }
   ],
   "source": [
    "amazon.info() # for datatypes"
   ]
  },
  {
   "cell_type": "code",
   "execution_count": 6,
   "id": "210c3bd9",
   "metadata": {
    "scrolled": true
   },
   "outputs": [
    {
     "data": {
      "text/plain": [
       "amazon_title            0\n",
       "amazon_author           0\n",
       "amazon_rating           4\n",
       "amazon_reviews count    4\n",
       "amazon_isbn-10          0\n",
       "amazon_price            0\n",
       "dtype: int64"
      ]
     },
     "execution_count": 6,
     "metadata": {},
     "output_type": "execute_result"
    }
   ],
   "source": [
    "amazon.isnull().sum() #sum of null values"
   ]
  },
  {
   "cell_type": "code",
   "execution_count": 7,
   "id": "b7ac4d30",
   "metadata": {},
   "outputs": [],
   "source": [
    "amazon = amazon.dropna(axis = 0) #dropping the null values"
   ]
  },
  {
   "cell_type": "code",
   "execution_count": 8,
   "id": "acd0208e",
   "metadata": {},
   "outputs": [
    {
     "data": {
      "text/plain": [
       "amazon_title            0\n",
       "amazon_author           0\n",
       "amazon_rating           0\n",
       "amazon_reviews count    0\n",
       "amazon_isbn-10          0\n",
       "amazon_price            0\n",
       "dtype: int64"
      ]
     },
     "execution_count": 8,
     "metadata": {},
     "output_type": "execute_result"
    }
   ],
   "source": [
    "amazon.isnull().sum() #checking back if the null has been dropped"
   ]
  },
  {
   "cell_type": "code",
   "execution_count": 9,
   "id": "af945cfc",
   "metadata": {},
   "outputs": [
    {
     "data": {
      "text/plain": [
       "(1378, 6)"
      ]
     },
     "execution_count": 9,
     "metadata": {},
     "output_type": "execute_result"
    }
   ],
   "source": [
    "amazon.shape #checking shape after dropping null"
   ]
  },
  {
   "cell_type": "code",
   "execution_count": 10,
   "id": "5c9ba720",
   "metadata": {},
   "outputs": [],
   "source": [
    "flipkart = pd.read_csv(\"flipkart.csv\")"
   ]
  },
  {
   "cell_type": "code",
   "execution_count": 11,
   "id": "3138baea",
   "metadata": {},
   "outputs": [
    {
     "data": {
      "text/html": [
       "<div>\n",
       "<style scoped>\n",
       "    .dataframe tbody tr th:only-of-type {\n",
       "        vertical-align: middle;\n",
       "    }\n",
       "\n",
       "    .dataframe tbody tr th {\n",
       "        vertical-align: top;\n",
       "    }\n",
       "\n",
       "    .dataframe thead th {\n",
       "        text-align: right;\n",
       "    }\n",
       "</style>\n",
       "<table border=\"1\" class=\"dataframe\">\n",
       "  <thead>\n",
       "    <tr style=\"text-align: right;\">\n",
       "      <th></th>\n",
       "      <th>flipkart_author</th>\n",
       "      <th>flipkart_isbn10</th>\n",
       "      <th>flipkart_title</th>\n",
       "      <th>flipkart_ratings count</th>\n",
       "      <th>flipkart_price</th>\n",
       "      <th>flipkart_stars</th>\n",
       "    </tr>\n",
       "  </thead>\n",
       "  <tbody>\n",
       "    <tr>\n",
       "      <th>0</th>\n",
       "      <td>Sidney Sheldon</td>\n",
       "      <td>8172234902</td>\n",
       "      <td>TELL ME YOUR DREAMS</td>\n",
       "      <td>902</td>\n",
       "      <td>209</td>\n",
       "      <td>4.5</td>\n",
       "    </tr>\n",
       "    <tr>\n",
       "      <th>1</th>\n",
       "      <td></td>\n",
       "      <td>1862305277</td>\n",
       "      <td>The Boy in the Striped Pyjamas</td>\n",
       "      <td>83</td>\n",
       "      <td>372</td>\n",
       "      <td>4.5</td>\n",
       "    </tr>\n",
       "    <tr>\n",
       "      <th>2</th>\n",
       "      <td>Anil Lamba</td>\n",
       "      <td>9350294311</td>\n",
       "      <td>ROMANCING THE BALANCE SHEET</td>\n",
       "      <td>352</td>\n",
       "      <td>477</td>\n",
       "      <td>4.5</td>\n",
       "    </tr>\n",
       "    <tr>\n",
       "      <th>3</th>\n",
       "      <td>Bar-Zohar Michael</td>\n",
       "      <td>8184958455</td>\n",
       "      <td>Mossad</td>\n",
       "      <td>560</td>\n",
       "      <td>280</td>\n",
       "      <td>4.5</td>\n",
       "    </tr>\n",
       "    <tr>\n",
       "      <th>4</th>\n",
       "      <td>Kamala Das</td>\n",
       "      <td>8172238975</td>\n",
       "      <td>MY STORY</td>\n",
       "      <td>322</td>\n",
       "      <td>178</td>\n",
       "      <td>4.3</td>\n",
       "    </tr>\n",
       "  </tbody>\n",
       "</table>\n",
       "</div>"
      ],
      "text/plain": [
       "       flipkart_author  flipkart_isbn10                   flipkart_title  \\\n",
       "0       Sidney Sheldon       8172234902              TELL ME YOUR DREAMS   \n",
       "1                            1862305277   The Boy in the Striped Pyjamas   \n",
       "2           Anil Lamba       9350294311      ROMANCING THE BALANCE SHEET   \n",
       "3    Bar-Zohar Michael       8184958455                           Mossad   \n",
       "4           Kamala Das       8172238975                         MY STORY   \n",
       "\n",
       "  flipkart_ratings count  flipkart_price flipkart_stars  \n",
       "0                    902             209            4.5  \n",
       "1                     83             372            4.5  \n",
       "2                    352             477            4.5  \n",
       "3                    560             280            4.5  \n",
       "4                    322             178            4.3  "
      ]
     },
     "execution_count": 11,
     "metadata": {},
     "output_type": "execute_result"
    }
   ],
   "source": [
    "flipkart.head()"
   ]
  },
  {
   "cell_type": "markdown",
   "id": "43fc5bbe",
   "metadata": {},
   "source": [
    "# Same steps for another data set"
   ]
  },
  {
   "cell_type": "code",
   "execution_count": 12,
   "id": "f9a6c9b4",
   "metadata": {},
   "outputs": [
    {
     "data": {
      "text/plain": [
       "(1382, 6)"
      ]
     },
     "execution_count": 12,
     "metadata": {},
     "output_type": "execute_result"
    }
   ],
   "source": [
    "flipkart.shape"
   ]
  },
  {
   "cell_type": "code",
   "execution_count": 13,
   "id": "17dd47b7",
   "metadata": {},
   "outputs": [
    {
     "name": "stdout",
     "output_type": "stream",
     "text": [
      "<class 'pandas.core.frame.DataFrame'>\n",
      "RangeIndex: 1382 entries, 0 to 1381\n",
      "Data columns (total 6 columns):\n",
      " #   Column                  Non-Null Count  Dtype \n",
      "---  ------                  --------------  ----- \n",
      " 0   flipkart_author         1382 non-null   object\n",
      " 1   flipkart_isbn10         1382 non-null   int64 \n",
      " 2   flipkart_title          1382 non-null   object\n",
      " 3   flipkart_ratings count  1382 non-null   object\n",
      " 4   flipkart_price          1382 non-null   int64 \n",
      " 5   flipkart_stars          1382 non-null   object\n",
      "dtypes: int64(2), object(4)\n",
      "memory usage: 64.9+ KB\n"
     ]
    }
   ],
   "source": [
    "flipkart.info()"
   ]
  },
  {
   "cell_type": "code",
   "execution_count": 14,
   "id": "94fb69cb",
   "metadata": {},
   "outputs": [
    {
     "data": {
      "text/plain": [
       "flipkart_author           0\n",
       "flipkart_isbn10           0\n",
       "flipkart_title            0\n",
       "flipkart_ratings count    0\n",
       "flipkart_price            0\n",
       "flipkart_stars            0\n",
       "dtype: int64"
      ]
     },
     "execution_count": 14,
     "metadata": {},
     "output_type": "execute_result"
    }
   ],
   "source": [
    "flipkart.isnull().sum()"
   ]
  },
  {
   "cell_type": "markdown",
   "id": "20c8f383",
   "metadata": {},
   "source": [
    "# Amazon"
   ]
  },
  {
   "cell_type": "code",
   "execution_count": 15,
   "id": "bc150c75",
   "metadata": {
    "scrolled": true
   },
   "outputs": [
    {
     "data": {
      "text/html": [
       "<div>\n",
       "<style scoped>\n",
       "    .dataframe tbody tr th:only-of-type {\n",
       "        vertical-align: middle;\n",
       "    }\n",
       "\n",
       "    .dataframe tbody tr th {\n",
       "        vertical-align: top;\n",
       "    }\n",
       "\n",
       "    .dataframe thead th {\n",
       "        text-align: right;\n",
       "    }\n",
       "</style>\n",
       "<table border=\"1\" class=\"dataframe\">\n",
       "  <thead>\n",
       "    <tr style=\"text-align: right;\">\n",
       "      <th></th>\n",
       "      <th>amazon_title</th>\n",
       "      <th>amazon_author</th>\n",
       "      <th>amazon_rating</th>\n",
       "      <th>amazon_reviews count</th>\n",
       "      <th>amazon_isbn-10</th>\n",
       "      <th>amazon_price</th>\n",
       "    </tr>\n",
       "  </thead>\n",
       "  <tbody>\n",
       "    <tr>\n",
       "      <th>0</th>\n",
       "      <td>Tell Me your Dreams</td>\n",
       "      <td>by Sidney Sheldon</td>\n",
       "      <td>4.4</td>\n",
       "      <td>160.0</td>\n",
       "      <td>8172234902</td>\n",
       "      <td>209</td>\n",
       "    </tr>\n",
       "    <tr>\n",
       "      <th>1</th>\n",
       "      <td>The Boy in the Striped Pyjamas (Definitions)</td>\n",
       "      <td>by John Boyne</td>\n",
       "      <td>4.6</td>\n",
       "      <td>134.0</td>\n",
       "      <td>1862305277</td>\n",
       "      <td>350</td>\n",
       "    </tr>\n",
       "    <tr>\n",
       "      <th>2</th>\n",
       "      <td>Romancing the Balance Sheet: For Anyone Who Ow...</td>\n",
       "      <td>by Anil Lamba</td>\n",
       "      <td>4.5</td>\n",
       "      <td>156.0</td>\n",
       "      <td>9350294311</td>\n",
       "      <td>477</td>\n",
       "    </tr>\n",
       "    <tr>\n",
       "      <th>3</th>\n",
       "      <td>Mossad</td>\n",
       "      <td>by Michael Bar-Zohar - Import</td>\n",
       "      <td>4.6</td>\n",
       "      <td>637.0</td>\n",
       "      <td>8184958455</td>\n",
       "      <td>340</td>\n",
       "    </tr>\n",
       "    <tr>\n",
       "      <th>4</th>\n",
       "      <td>My Story</td>\n",
       "      <td>by Kamala Das</td>\n",
       "      <td>4.5</td>\n",
       "      <td>42.0</td>\n",
       "      <td>8172238975</td>\n",
       "      <td>178</td>\n",
       "    </tr>\n",
       "  </tbody>\n",
       "</table>\n",
       "</div>"
      ],
      "text/plain": [
       "                                        amazon_title  \\\n",
       "0                                Tell Me your Dreams   \n",
       "1       The Boy in the Striped Pyjamas (Definitions)   \n",
       "2  Romancing the Balance Sheet: For Anyone Who Ow...   \n",
       "3                                             Mossad   \n",
       "4                                           My Story   \n",
       "\n",
       "                   amazon_author amazon_rating amazon_reviews count  \\\n",
       "0              by Sidney Sheldon           4.4                160.0   \n",
       "1                  by John Boyne           4.6                134.0   \n",
       "2                  by Anil Lamba           4.5                156.0   \n",
       "3  by Michael Bar-Zohar - Import           4.6                637.0   \n",
       "4                  by Kamala Das           4.5                 42.0   \n",
       "\n",
       "   amazon_isbn-10  amazon_price  \n",
       "0      8172234902           209  \n",
       "1      1862305277           350  \n",
       "2      9350294311           477  \n",
       "3      8184958455           340  \n",
       "4      8172238975           178  "
      ]
     },
     "execution_count": 15,
     "metadata": {},
     "output_type": "execute_result"
    }
   ],
   "source": [
    "amazon.head()"
   ]
  },
  {
   "cell_type": "code",
   "execution_count": 16,
   "id": "2c52cce6",
   "metadata": {},
   "outputs": [],
   "source": [
    "amazon[\"amazon_reviews count\"]=amazon[\"amazon_reviews count\"].str.replace(\",\",\"\")"
   ]
  },
  {
   "cell_type": "code",
   "execution_count": 17,
   "id": "f2309b94",
   "metadata": {},
   "outputs": [],
   "source": [
    "amazon[\"amazon_reviews count\"]=pd.to_numeric(amazon[\"amazon_reviews count\"])"
   ]
  },
  {
   "cell_type": "code",
   "execution_count": 18,
   "id": "977260d1",
   "metadata": {},
   "outputs": [
    {
     "name": "stdout",
     "output_type": "stream",
     "text": [
      "<class 'pandas.core.frame.DataFrame'>\n",
      "Int64Index: 1378 entries, 0 to 1381\n",
      "Data columns (total 6 columns):\n",
      " #   Column                Non-Null Count  Dtype  \n",
      "---  ------                --------------  -----  \n",
      " 0   amazon_title          1378 non-null   object \n",
      " 1   amazon_author         1378 non-null   object \n",
      " 2   amazon_rating         1378 non-null   object \n",
      " 3   amazon_reviews count  1378 non-null   float64\n",
      " 4   amazon_isbn-10        1378 non-null   int64  \n",
      " 5   amazon_price          1378 non-null   int64  \n",
      "dtypes: float64(1), int64(2), object(3)\n",
      "memory usage: 75.4+ KB\n"
     ]
    }
   ],
   "source": [
    "amazon.info() #checking if the object value has replaced with numeric"
   ]
  },
  {
   "cell_type": "code",
   "execution_count": 19,
   "id": "ebe45394",
   "metadata": {},
   "outputs": [
    {
     "data": {
      "text/html": [
       "<div>\n",
       "<style scoped>\n",
       "    .dataframe tbody tr th:only-of-type {\n",
       "        vertical-align: middle;\n",
       "    }\n",
       "\n",
       "    .dataframe tbody tr th {\n",
       "        vertical-align: top;\n",
       "    }\n",
       "\n",
       "    .dataframe thead th {\n",
       "        text-align: right;\n",
       "    }\n",
       "</style>\n",
       "<table border=\"1\" class=\"dataframe\">\n",
       "  <thead>\n",
       "    <tr style=\"text-align: right;\">\n",
       "      <th></th>\n",
       "      <th>amazon_reviews count</th>\n",
       "      <th>amazon_isbn-10</th>\n",
       "      <th>amazon_price</th>\n",
       "    </tr>\n",
       "  </thead>\n",
       "  <tbody>\n",
       "    <tr>\n",
       "      <th>count</th>\n",
       "      <td>1378.000000</td>\n",
       "      <td>1.378000e+03</td>\n",
       "      <td>1378.000000</td>\n",
       "    </tr>\n",
       "    <tr>\n",
       "      <th>mean</th>\n",
       "      <td>492.148766</td>\n",
       "      <td>7.761269e+09</td>\n",
       "      <td>247.591437</td>\n",
       "    </tr>\n",
       "    <tr>\n",
       "      <th>std</th>\n",
       "      <td>1016.414262</td>\n",
       "      <td>2.641236e+09</td>\n",
       "      <td>151.274270</td>\n",
       "    </tr>\n",
       "    <tr>\n",
       "      <th>min</th>\n",
       "      <td>1.000000</td>\n",
       "      <td>1.250006e+09</td>\n",
       "      <td>1.000000</td>\n",
       "    </tr>\n",
       "    <tr>\n",
       "      <th>25%</th>\n",
       "      <td>41.000000</td>\n",
       "      <td>8.172235e+09</td>\n",
       "      <td>135.250000</td>\n",
       "    </tr>\n",
       "    <tr>\n",
       "      <th>50%</th>\n",
       "      <td>137.000000</td>\n",
       "      <td>8.192911e+09</td>\n",
       "      <td>213.000000</td>\n",
       "    </tr>\n",
       "    <tr>\n",
       "      <th>75%</th>\n",
       "      <td>392.500000</td>\n",
       "      <td>9.352865e+09</td>\n",
       "      <td>320.000000</td>\n",
       "    </tr>\n",
       "    <tr>\n",
       "      <th>max</th>\n",
       "      <td>6566.000000</td>\n",
       "      <td>9.960900e+09</td>\n",
       "      <td>895.000000</td>\n",
       "    </tr>\n",
       "  </tbody>\n",
       "</table>\n",
       "</div>"
      ],
      "text/plain": [
       "       amazon_reviews count  amazon_isbn-10  amazon_price\n",
       "count           1378.000000    1.378000e+03   1378.000000\n",
       "mean             492.148766    7.761269e+09    247.591437\n",
       "std             1016.414262    2.641236e+09    151.274270\n",
       "min                1.000000    1.250006e+09      1.000000\n",
       "25%               41.000000    8.172235e+09    135.250000\n",
       "50%              137.000000    8.192911e+09    213.000000\n",
       "75%              392.500000    9.352865e+09    320.000000\n",
       "max             6566.000000    9.960900e+09    895.000000"
      ]
     },
     "execution_count": 19,
     "metadata": {},
     "output_type": "execute_result"
    }
   ],
   "source": [
    "amazon.describe() #This shows some stats about the data"
   ]
  },
  {
   "cell_type": "code",
   "execution_count": 20,
   "id": "9f90c410",
   "metadata": {},
   "outputs": [
    {
     "data": {
      "text/html": [
       "<div>\n",
       "<style scoped>\n",
       "    .dataframe tbody tr th:only-of-type {\n",
       "        vertical-align: middle;\n",
       "    }\n",
       "\n",
       "    .dataframe tbody tr th {\n",
       "        vertical-align: top;\n",
       "    }\n",
       "\n",
       "    .dataframe thead th {\n",
       "        text-align: right;\n",
       "    }\n",
       "</style>\n",
       "<table border=\"1\" class=\"dataframe\">\n",
       "  <thead>\n",
       "    <tr style=\"text-align: right;\">\n",
       "      <th></th>\n",
       "      <th>amazon_title</th>\n",
       "      <th>amazon_author</th>\n",
       "      <th>amazon_rating</th>\n",
       "      <th>amazon_reviews count</th>\n",
       "      <th>amazon_isbn-10</th>\n",
       "      <th>amazon_price</th>\n",
       "    </tr>\n",
       "  </thead>\n",
       "  <tbody>\n",
       "    <tr>\n",
       "      <th>0</th>\n",
       "      <td>Tell Me your Dreams</td>\n",
       "      <td>by Sidney Sheldon</td>\n",
       "      <td>4.4</td>\n",
       "      <td>160.0</td>\n",
       "      <td>8172234902</td>\n",
       "      <td>209</td>\n",
       "    </tr>\n",
       "    <tr>\n",
       "      <th>1</th>\n",
       "      <td>The Boy in the Striped Pyjamas (Definitions)</td>\n",
       "      <td>by John Boyne</td>\n",
       "      <td>4.6</td>\n",
       "      <td>134.0</td>\n",
       "      <td>1862305277</td>\n",
       "      <td>350</td>\n",
       "    </tr>\n",
       "    <tr>\n",
       "      <th>2</th>\n",
       "      <td>Romancing the Balance Sheet: For Anyone Who Ow...</td>\n",
       "      <td>by Anil Lamba</td>\n",
       "      <td>4.5</td>\n",
       "      <td>156.0</td>\n",
       "      <td>9350294311</td>\n",
       "      <td>477</td>\n",
       "    </tr>\n",
       "    <tr>\n",
       "      <th>3</th>\n",
       "      <td>Mossad</td>\n",
       "      <td>by Michael Bar-Zohar - Import</td>\n",
       "      <td>4.6</td>\n",
       "      <td>637.0</td>\n",
       "      <td>8184958455</td>\n",
       "      <td>340</td>\n",
       "    </tr>\n",
       "    <tr>\n",
       "      <th>4</th>\n",
       "      <td>My Story</td>\n",
       "      <td>by Kamala Das</td>\n",
       "      <td>4.5</td>\n",
       "      <td>42.0</td>\n",
       "      <td>8172238975</td>\n",
       "      <td>178</td>\n",
       "    </tr>\n",
       "  </tbody>\n",
       "</table>\n",
       "</div>"
      ],
      "text/plain": [
       "                                        amazon_title  \\\n",
       "0                                Tell Me your Dreams   \n",
       "1       The Boy in the Striped Pyjamas (Definitions)   \n",
       "2  Romancing the Balance Sheet: For Anyone Who Ow...   \n",
       "3                                             Mossad   \n",
       "4                                           My Story   \n",
       "\n",
       "                   amazon_author amazon_rating  amazon_reviews count  \\\n",
       "0              by Sidney Sheldon           4.4                 160.0   \n",
       "1                  by John Boyne           4.6                 134.0   \n",
       "2                  by Anil Lamba           4.5                 156.0   \n",
       "3  by Michael Bar-Zohar - Import           4.6                 637.0   \n",
       "4                  by Kamala Das           4.5                  42.0   \n",
       "\n",
       "   amazon_isbn-10  amazon_price  \n",
       "0      8172234902           209  \n",
       "1      1862305277           350  \n",
       "2      9350294311           477  \n",
       "3      8184958455           340  \n",
       "4      8172238975           178  "
      ]
     },
     "execution_count": 20,
     "metadata": {},
     "output_type": "execute_result"
    }
   ],
   "source": [
    "amazon.head()"
   ]
  },
  {
   "cell_type": "code",
   "execution_count": 21,
   "id": "b5ba9795",
   "metadata": {},
   "outputs": [
    {
     "data": {
      "text/plain": [
       "<AxesSubplot:xlabel='amazon_price', ylabel='Count'>"
      ]
     },
     "execution_count": 21,
     "metadata": {},
     "output_type": "execute_result"
    },
    {
     "data": {
      "image/png": "[encoded data removed]",
      "text/plain": [
       "<Figure size 1080x360 with 1 Axes>"
      ]
     },
     "metadata": {
      "needs_background": "light"
     },
     "output_type": "display_data"
    }
   ],
   "source": [
    "plt.figure(figsize=(15,5)) #Size\n",
    "sns.set_style(\"whitegrid\")\n",
    "sns.histplot(data=amazon,x=\"amazon_price\",kde=True, legend=True,bins=70)"
   ]
  },
  {
   "cell_type": "markdown",
   "id": "9a688bcf",
   "metadata": {},
   "source": [
    "# Price range on Amazon"
   ]
  },
  {
   "cell_type": "code",
   "execution_count": 22,
   "id": "b2506f4b",
   "metadata": {},
   "outputs": [
    {
     "data": {
      "text/html": [
       "<div>\n",
       "<style scoped>\n",
       "    .dataframe tbody tr th:only-of-type {\n",
       "        vertical-align: middle;\n",
       "    }\n",
       "\n",
       "    .dataframe tbody tr th {\n",
       "        vertical-align: top;\n",
       "    }\n",
       "\n",
       "    .dataframe thead th {\n",
       "        text-align: right;\n",
       "    }\n",
       "</style>\n",
       "<table border=\"1\" class=\"dataframe\">\n",
       "  <thead>\n",
       "    <tr style=\"text-align: right;\">\n",
       "      <th></th>\n",
       "      <th>amazon_title</th>\n",
       "      <th>amazon_author</th>\n",
       "      <th>amazon_rating</th>\n",
       "      <th>amazon_reviews count</th>\n",
       "      <th>amazon_isbn-10</th>\n",
       "      <th>amazon_price</th>\n",
       "    </tr>\n",
       "  </thead>\n",
       "  <tbody>\n",
       "    <tr>\n",
       "      <th>0</th>\n",
       "      <td>Tell Me your Dreams</td>\n",
       "      <td>by Sidney Sheldon</td>\n",
       "      <td>4.4</td>\n",
       "      <td>160.0</td>\n",
       "      <td>8172234902</td>\n",
       "      <td>209</td>\n",
       "    </tr>\n",
       "    <tr>\n",
       "      <th>1</th>\n",
       "      <td>The Boy in the Striped Pyjamas (Definitions)</td>\n",
       "      <td>by John Boyne</td>\n",
       "      <td>4.6</td>\n",
       "      <td>134.0</td>\n",
       "      <td>1862305277</td>\n",
       "      <td>350</td>\n",
       "    </tr>\n",
       "    <tr>\n",
       "      <th>2</th>\n",
       "      <td>Romancing the Balance Sheet: For Anyone Who Ow...</td>\n",
       "      <td>by Anil Lamba</td>\n",
       "      <td>4.5</td>\n",
       "      <td>156.0</td>\n",
       "      <td>9350294311</td>\n",
       "      <td>477</td>\n",
       "    </tr>\n",
       "    <tr>\n",
       "      <th>3</th>\n",
       "      <td>Mossad</td>\n",
       "      <td>by Michael Bar-Zohar - Import</td>\n",
       "      <td>4.6</td>\n",
       "      <td>637.0</td>\n",
       "      <td>8184958455</td>\n",
       "      <td>340</td>\n",
       "    </tr>\n",
       "    <tr>\n",
       "      <th>4</th>\n",
       "      <td>My Story</td>\n",
       "      <td>by Kamala Das</td>\n",
       "      <td>4.5</td>\n",
       "      <td>42.0</td>\n",
       "      <td>8172238975</td>\n",
       "      <td>178</td>\n",
       "    </tr>\n",
       "  </tbody>\n",
       "</table>\n",
       "</div>"
      ],
      "text/plain": [
       "                                        amazon_title  \\\n",
       "0                                Tell Me your Dreams   \n",
       "1       The Boy in the Striped Pyjamas (Definitions)   \n",
       "2  Romancing the Balance Sheet: For Anyone Who Ow...   \n",
       "3                                             Mossad   \n",
       "4                                           My Story   \n",
       "\n",
       "                   amazon_author amazon_rating  amazon_reviews count  \\\n",
       "0              by Sidney Sheldon           4.4                 160.0   \n",
       "1                  by John Boyne           4.6                 134.0   \n",
       "2                  by Anil Lamba           4.5                 156.0   \n",
       "3  by Michael Bar-Zohar - Import           4.6                 637.0   \n",
       "4                  by Kamala Das           4.5                  42.0   \n",
       "\n",
       "   amazon_isbn-10  amazon_price  \n",
       "0      8172234902           209  \n",
       "1      1862305277           350  \n",
       "2      9350294311           477  \n",
       "3      8184958455           340  \n",
       "4      8172238975           178  "
      ]
     },
     "execution_count": 22,
     "metadata": {},
     "output_type": "execute_result"
    }
   ],
   "source": [
    "amazon.head()"
   ]
  },
  {
   "cell_type": "code",
   "execution_count": 23,
   "id": "9fdd8286",
   "metadata": {},
   "outputs": [
    {
     "data": {
      "text/plain": [
       "<AxesSubplot:xlabel='amazon_reviews count', ylabel='Count'>"
      ]
     },
     "execution_count": 23,
     "metadata": {},
     "output_type": "execute_result"
    },
    {
     "data": {
      "image/png": "[encoded data removed]",
      "text/plain": [
       "<Figure size 1080x360 with 1 Axes>"
      ]
     },
     "metadata": {},
     "output_type": "display_data"
    }
   ],
   "source": [
    "plt.figure(figsize=(15,5)) #Size\n",
    "sns.set_style(\"whitegrid\")\n",
    "sns.histplot(data=amazon,x=\"amazon_reviews count\",kde=True, legend=True,bins=70)"
   ]
  },
  {
   "cell_type": "markdown",
   "id": "35d3cf0a",
   "metadata": {},
   "source": [
    "# Review count on Amazon"
   ]
  },
  {
   "cell_type": "code",
   "execution_count": 24,
   "id": "eb9e1aee",
   "metadata": {},
   "outputs": [
    {
     "data": {
      "text/html": [
       "<div>\n",
       "<style scoped>\n",
       "    .dataframe tbody tr th:only-of-type {\n",
       "        vertical-align: middle;\n",
       "    }\n",
       "\n",
       "    .dataframe tbody tr th {\n",
       "        vertical-align: top;\n",
       "    }\n",
       "\n",
       "    .dataframe thead th {\n",
       "        text-align: right;\n",
       "    }\n",
       "</style>\n",
       "<table border=\"1\" class=\"dataframe\">\n",
       "  <thead>\n",
       "    <tr style=\"text-align: right;\">\n",
       "      <th></th>\n",
       "      <th>amazon_title</th>\n",
       "      <th>amazon_author</th>\n",
       "      <th>amazon_rating</th>\n",
       "      <th>amazon_reviews count</th>\n",
       "      <th>amazon_isbn-10</th>\n",
       "      <th>amazon_price</th>\n",
       "    </tr>\n",
       "  </thead>\n",
       "  <tbody>\n",
       "    <tr>\n",
       "      <th>0</th>\n",
       "      <td>Tell Me your Dreams</td>\n",
       "      <td>by Sidney Sheldon</td>\n",
       "      <td>4.4</td>\n",
       "      <td>160.0</td>\n",
       "      <td>8172234902</td>\n",
       "      <td>209</td>\n",
       "    </tr>\n",
       "    <tr>\n",
       "      <th>1</th>\n",
       "      <td>The Boy in the Striped Pyjamas (Definitions)</td>\n",
       "      <td>by John Boyne</td>\n",
       "      <td>4.6</td>\n",
       "      <td>134.0</td>\n",
       "      <td>1862305277</td>\n",
       "      <td>350</td>\n",
       "    </tr>\n",
       "    <tr>\n",
       "      <th>2</th>\n",
       "      <td>Romancing the Balance Sheet: For Anyone Who Ow...</td>\n",
       "      <td>by Anil Lamba</td>\n",
       "      <td>4.5</td>\n",
       "      <td>156.0</td>\n",
       "      <td>9350294311</td>\n",
       "      <td>477</td>\n",
       "    </tr>\n",
       "    <tr>\n",
       "      <th>3</th>\n",
       "      <td>Mossad</td>\n",
       "      <td>by Michael Bar-Zohar - Import</td>\n",
       "      <td>4.6</td>\n",
       "      <td>637.0</td>\n",
       "      <td>8184958455</td>\n",
       "      <td>340</td>\n",
       "    </tr>\n",
       "    <tr>\n",
       "      <th>4</th>\n",
       "      <td>My Story</td>\n",
       "      <td>by Kamala Das</td>\n",
       "      <td>4.5</td>\n",
       "      <td>42.0</td>\n",
       "      <td>8172238975</td>\n",
       "      <td>178</td>\n",
       "    </tr>\n",
       "  </tbody>\n",
       "</table>\n",
       "</div>"
      ],
      "text/plain": [
       "                                        amazon_title  \\\n",
       "0                                Tell Me your Dreams   \n",
       "1       The Boy in the Striped Pyjamas (Definitions)   \n",
       "2  Romancing the Balance Sheet: For Anyone Who Ow...   \n",
       "3                                             Mossad   \n",
       "4                                           My Story   \n",
       "\n",
       "                   amazon_author amazon_rating  amazon_reviews count  \\\n",
       "0              by Sidney Sheldon           4.4                 160.0   \n",
       "1                  by John Boyne           4.6                 134.0   \n",
       "2                  by Anil Lamba           4.5                 156.0   \n",
       "3  by Michael Bar-Zohar - Import           4.6                 637.0   \n",
       "4                  by Kamala Das           4.5                  42.0   \n",
       "\n",
       "   amazon_isbn-10  amazon_price  \n",
       "0      8172234902           209  \n",
       "1      1862305277           350  \n",
       "2      9350294311           477  \n",
       "3      8184958455           340  \n",
       "4      8172238975           178  "
      ]
     },
     "execution_count": 24,
     "metadata": {},
     "output_type": "execute_result"
    }
   ],
   "source": [
    "amazon.head()"
   ]
  },
  {
   "cell_type": "code",
   "execution_count": 25,
   "id": "657c6cd1",
   "metadata": {},
   "outputs": [
    {
     "data": {
      "text/plain": [
       "4.4                   193\n",
       "4.5                   155\n",
       "4.6                   118\n",
       "4.3                   118\n",
       "4.1                   106\n",
       "4.2                    98\n",
       "4.7                    85\n",
       "4.0                    63\n",
       "4.8                    56\n",
       "4.5 out of 5 stars     45\n",
       "4.6 out of 5 stars     39\n",
       "4.4 out of 5 stars     36\n",
       "3.9                    35\n",
       "5.0                    30\n",
       "3.8                    27\n",
       "3.7                    25\n",
       "4.1 out of 5 stars     17\n",
       "4.3 out of 5 stars     17\n",
       "3.6                    16\n",
       "4.9                    14\n",
       "3.5                    13\n",
       "3.4                    12\n",
       "4.0 out of 5 stars     11\n",
       "4.2 out of 5 stars     11\n",
       "3.3                     8\n",
       "4.7 out of 5 stars      7\n",
       "3.6 out of 5 stars      6\n",
       "1.0                     3\n",
       "5.0 out of 5 stars      3\n",
       "3.0                     3\n",
       "1.4                     2\n",
       "3.1                     2\n",
       "3.2                     2\n",
       "2.4                     1\n",
       "2.0                     1\n",
       "Name: amazon_rating, dtype: int64"
      ]
     },
     "execution_count": 25,
     "metadata": {},
     "output_type": "execute_result"
    }
   ],
   "source": [
    "amazon['amazon_rating'].value_counts() #oops not all are of same type"
   ]
  },
  {
   "cell_type": "code",
   "execution_count": 26,
   "id": "616abc81",
   "metadata": {},
   "outputs": [],
   "source": [
    "def rating_impute(col):\n",
    "    amazon_rating=col[0]\n",
    "    if amazon_rating==\"4.5 out of 5 stars\":\n",
    "        amazon_rating.replace(\"4.5 out of 5 stars\",\"4.5\")\n",
    "    elif amazon_rating==\"4.6 out of 5 stars\":\n",
    "        amazon_rating.replace(\"4.6 out of 5 stars\",\"4.6\")\n",
    "    elif amazon_rating==\"4.4 out of 5 stars\":\n",
    "        amazon_rating.replace(\"4.4 out of 5 stars\",\"4.4\")\n",
    "    elif amazon_rating==\"4.1 out of 5 stars\":\n",
    "        amazon_rating.replace(\"4.1 out of 5 stars\",\"4.1\")\n",
    "    elif amazon_rating==\"4.0 out of 5 stars\":\n",
    "        amazon_rating.replace(\"4.0 out of 5 stars\",\"4.0\")\n",
    "    elif amazon_rating==\"4.2 out of 5 stars\":\n",
    "        amazon_rating.replace(\"4.2 out of 5 stars\",\"4.2\")\n",
    "    elif amazon_rating==\"4.7 out of 5 stars\":\n",
    "        amazon_rating.replace(\"4.7 out of 5 stars\",\"4.7\")\n",
    "    elif amazon_rating==\"3.6 out of 5 stars\":\n",
    "        amazon_rating.replace(\"3.6 out of 5 stars\",\"3.6\")\n",
    "    elif amazon_rating==\"5.0 out of 5 stars\":\n",
    "        amazon_rating.replace(\"5.0 out of 5 stars\",\"5.0\")\n",
    "    elif amazon_rating==\"4.3 out of 5 stars\":\n",
    "        amazon_rating.replace(\"4.3 out of 5 stars\",\"4.3\")\n",
    "    else:\n",
    "        return amazon_rating"
   ]
  },
  {
   "cell_type": "code",
   "execution_count": 27,
   "id": "0b6ee908",
   "metadata": {},
   "outputs": [],
   "source": [
    "amazon[\"amazon_rating\"]=  amazon[[\"amazon_rating\"]].apply(rating_impute, axis=1) #applying the function"
   ]
  },
  {
   "cell_type": "code",
   "execution_count": 28,
   "id": "707eca75",
   "metadata": {},
   "outputs": [
    {
     "data": {
      "text/plain": [
       "4.4    193\n",
       "4.5    155\n",
       "4.6    118\n",
       "4.3    118\n",
       "4.1    106\n",
       "4.2     98\n",
       "4.7     85\n",
       "4.0     63\n",
       "4.8     56\n",
       "3.9     35\n",
       "5.0     30\n",
       "3.8     27\n",
       "3.7     25\n",
       "3.6     16\n",
       "4.9     14\n",
       "3.5     13\n",
       "3.4     12\n",
       "3.3      8\n",
       "3.0      3\n",
       "1.0      3\n",
       "3.2      2\n",
       "1.4      2\n",
       "3.1      2\n",
       "2.0      1\n",
       "2.4      1\n",
       "Name: amazon_rating, dtype: int64"
      ]
     },
     "execution_count": 28,
     "metadata": {},
     "output_type": "execute_result"
    }
   ],
   "source": [
    "amazon[\"amazon_rating\"].value_counts() # checking if all are of same type"
   ]
  },
  {
   "cell_type": "code",
   "execution_count": 29,
   "id": "d7f3f790",
   "metadata": {},
   "outputs": [],
   "source": [
    "amazon[\"amazon_rating\"]=pd.to_numeric(amazon[\"amazon_rating\"]) #converting to numeric"
   ]
  },
  {
   "cell_type": "code",
   "execution_count": 30,
   "id": "9f379e71",
   "metadata": {},
   "outputs": [
    {
     "data": {
      "text/plain": [
       "<AxesSubplot:xlabel='amazon_rating', ylabel='Count'>"
      ]
     },
     "execution_count": 30,
     "metadata": {},
     "output_type": "execute_result"
    },
    {
     "data": {
      "image/png": "[encoded data removed]",
      "text/plain": [
       "<Figure size 1080x360 with 1 Axes>"
      ]
     },
     "metadata": {},
     "output_type": "display_data"
    }
   ],
   "source": [
    "plt.figure(figsize=(15,5)) #Size\n",
    "sns.set_style(\"whitegrid\")\n",
    "sns.histplot(data=amazon,x=\"amazon_rating\",kde=True, legend=True,bins=70) #histplot for amazon rating"
   ]
  },
  {
   "cell_type": "markdown",
   "id": "f19f461b",
   "metadata": {},
   "source": [
    "# Amazon rating"
   ]
  },
  {
   "cell_type": "code",
   "execution_count": 31,
   "id": "e0b82f6c",
   "metadata": {
    "scrolled": true
   },
   "outputs": [
    {
     "data": {
      "text/html": [
       "<div>\n",
       "<style scoped>\n",
       "    .dataframe tbody tr th:only-of-type {\n",
       "        vertical-align: middle;\n",
       "    }\n",
       "\n",
       "    .dataframe tbody tr th {\n",
       "        vertical-align: top;\n",
       "    }\n",
       "\n",
       "    .dataframe thead th {\n",
       "        text-align: right;\n",
       "    }\n",
       "</style>\n",
       "<table border=\"1\" class=\"dataframe\">\n",
       "  <thead>\n",
       "    <tr style=\"text-align: right;\">\n",
       "      <th></th>\n",
       "      <th>amazon_title</th>\n",
       "      <th>amazon_author</th>\n",
       "      <th>amazon_rating</th>\n",
       "      <th>amazon_reviews count</th>\n",
       "      <th>amazon_isbn-10</th>\n",
       "      <th>amazon_price</th>\n",
       "    </tr>\n",
       "  </thead>\n",
       "  <tbody>\n",
       "    <tr>\n",
       "      <th>0</th>\n",
       "      <td>Tell Me your Dreams</td>\n",
       "      <td>by Sidney Sheldon</td>\n",
       "      <td>4.4</td>\n",
       "      <td>160.0</td>\n",
       "      <td>8172234902</td>\n",
       "      <td>209</td>\n",
       "    </tr>\n",
       "    <tr>\n",
       "      <th>1</th>\n",
       "      <td>The Boy in the Striped Pyjamas (Definitions)</td>\n",
       "      <td>by John Boyne</td>\n",
       "      <td>4.6</td>\n",
       "      <td>134.0</td>\n",
       "      <td>1862305277</td>\n",
       "      <td>350</td>\n",
       "    </tr>\n",
       "    <tr>\n",
       "      <th>2</th>\n",
       "      <td>Romancing the Balance Sheet: For Anyone Who Ow...</td>\n",
       "      <td>by Anil Lamba</td>\n",
       "      <td>4.5</td>\n",
       "      <td>156.0</td>\n",
       "      <td>9350294311</td>\n",
       "      <td>477</td>\n",
       "    </tr>\n",
       "    <tr>\n",
       "      <th>3</th>\n",
       "      <td>Mossad</td>\n",
       "      <td>by Michael Bar-Zohar - Import</td>\n",
       "      <td>4.6</td>\n",
       "      <td>637.0</td>\n",
       "      <td>8184958455</td>\n",
       "      <td>340</td>\n",
       "    </tr>\n",
       "    <tr>\n",
       "      <th>4</th>\n",
       "      <td>My Story</td>\n",
       "      <td>by Kamala Das</td>\n",
       "      <td>4.5</td>\n",
       "      <td>42.0</td>\n",
       "      <td>8172238975</td>\n",
       "      <td>178</td>\n",
       "    </tr>\n",
       "  </tbody>\n",
       "</table>\n",
       "</div>"
      ],
      "text/plain": [
       "                                        amazon_title  \\\n",
       "0                                Tell Me your Dreams   \n",
       "1       The Boy in the Striped Pyjamas (Definitions)   \n",
       "2  Romancing the Balance Sheet: For Anyone Who Ow...   \n",
       "3                                             Mossad   \n",
       "4                                           My Story   \n",
       "\n",
       "                   amazon_author  amazon_rating  amazon_reviews count  \\\n",
       "0              by Sidney Sheldon            4.4                 160.0   \n",
       "1                  by John Boyne            4.6                 134.0   \n",
       "2                  by Anil Lamba            4.5                 156.0   \n",
       "3  by Michael Bar-Zohar - Import            4.6                 637.0   \n",
       "4                  by Kamala Das            4.5                  42.0   \n",
       "\n",
       "   amazon_isbn-10  amazon_price  \n",
       "0      8172234902           209  \n",
       "1      1862305277           350  \n",
       "2      9350294311           477  \n",
       "3      8184958455           340  \n",
       "4      8172238975           178  "
      ]
     },
     "execution_count": 31,
     "metadata": {},
     "output_type": "execute_result"
    }
   ],
   "source": [
    "amazon.head()"
   ]
  },
  {
   "cell_type": "code",
   "execution_count": 32,
   "id": "01ca1338",
   "metadata": {},
   "outputs": [],
   "source": [
    "l1 = list(amazon['amazon_author'].value_counts().keys() [0:30])\n",
    "l2 = list(amazon['amazon_author'].value_counts().values [0:30])\n"
   ]
  },
  {
   "cell_type": "code",
   "execution_count": 33,
   "id": "693d9fb0",
   "metadata": {},
   "outputs": [
    {
     "data": {
      "text/plain": [
       "Text(0, 0.5, 'Authors')"
      ]
     },
     "execution_count": 33,
     "metadata": {},
     "output_type": "execute_result"
    },
    {
     "data": {
      "image/png": "[encoded data removed]",
      "text/plain": [
       "<Figure size 1080x504 with 1 Axes>"
      ]
     },
     "metadata": {},
     "output_type": "display_data"
    }
   ],
   "source": [
    "plt.figure(figsize=(15,7))\n",
    "sns.set(style=\"darkgrid\")\n",
    "sns.barplot(x=l2,y=l1,data=amazon)\n",
    "\n",
    "plt.xlabel(\"Counts\")\n",
    "plt.ylabel(\"Authors\")"
   ]
  },
  {
   "cell_type": "markdown",
   "id": "5d8d2562",
   "metadata": {},
   "source": [
    "# Top 30 Authors on Amazon"
   ]
  },
  {
   "cell_type": "markdown",
   "id": "cff76b0b",
   "metadata": {},
   "source": [
    "# Flipkart"
   ]
  },
  {
   "cell_type": "code",
   "execution_count": 34,
   "id": "d78f893f",
   "metadata": {},
   "outputs": [
    {
     "data": {
      "text/html": [
       "<div>\n",
       "<style scoped>\n",
       "    .dataframe tbody tr th:only-of-type {\n",
       "        vertical-align: middle;\n",
       "    }\n",
       "\n",
       "    .dataframe tbody tr th {\n",
       "        vertical-align: top;\n",
       "    }\n",
       "\n",
       "    .dataframe thead th {\n",
       "        text-align: right;\n",
       "    }\n",
       "</style>\n",
       "<table border=\"1\" class=\"dataframe\">\n",
       "  <thead>\n",
       "    <tr style=\"text-align: right;\">\n",
       "      <th></th>\n",
       "      <th>flipkart_author</th>\n",
       "      <th>flipkart_isbn10</th>\n",
       "      <th>flipkart_title</th>\n",
       "      <th>flipkart_ratings count</th>\n",
       "      <th>flipkart_price</th>\n",
       "      <th>flipkart_stars</th>\n",
       "    </tr>\n",
       "  </thead>\n",
       "  <tbody>\n",
       "    <tr>\n",
       "      <th>0</th>\n",
       "      <td>Sidney Sheldon</td>\n",
       "      <td>8172234902</td>\n",
       "      <td>TELL ME YOUR DREAMS</td>\n",
       "      <td>902</td>\n",
       "      <td>209</td>\n",
       "      <td>4.5</td>\n",
       "    </tr>\n",
       "    <tr>\n",
       "      <th>1</th>\n",
       "      <td></td>\n",
       "      <td>1862305277</td>\n",
       "      <td>The Boy in the Striped Pyjamas</td>\n",
       "      <td>83</td>\n",
       "      <td>372</td>\n",
       "      <td>4.5</td>\n",
       "    </tr>\n",
       "    <tr>\n",
       "      <th>2</th>\n",
       "      <td>Anil Lamba</td>\n",
       "      <td>9350294311</td>\n",
       "      <td>ROMANCING THE BALANCE SHEET</td>\n",
       "      <td>352</td>\n",
       "      <td>477</td>\n",
       "      <td>4.5</td>\n",
       "    </tr>\n",
       "    <tr>\n",
       "      <th>3</th>\n",
       "      <td>Bar-Zohar Michael</td>\n",
       "      <td>8184958455</td>\n",
       "      <td>Mossad</td>\n",
       "      <td>560</td>\n",
       "      <td>280</td>\n",
       "      <td>4.5</td>\n",
       "    </tr>\n",
       "    <tr>\n",
       "      <th>4</th>\n",
       "      <td>Kamala Das</td>\n",
       "      <td>8172238975</td>\n",
       "      <td>MY STORY</td>\n",
       "      <td>322</td>\n",
       "      <td>178</td>\n",
       "      <td>4.3</td>\n",
       "    </tr>\n",
       "  </tbody>\n",
       "</table>\n",
       "</div>"
      ],
      "text/plain": [
       "       flipkart_author  flipkart_isbn10                   flipkart_title  \\\n",
       "0       Sidney Sheldon       8172234902              TELL ME YOUR DREAMS   \n",
       "1                            1862305277   The Boy in the Striped Pyjamas   \n",
       "2           Anil Lamba       9350294311      ROMANCING THE BALANCE SHEET   \n",
       "3    Bar-Zohar Michael       8184958455                           Mossad   \n",
       "4           Kamala Das       8172238975                         MY STORY   \n",
       "\n",
       "  flipkart_ratings count  flipkart_price flipkart_stars  \n",
       "0                    902             209            4.5  \n",
       "1                     83             372            4.5  \n",
       "2                    352             477            4.5  \n",
       "3                    560             280            4.5  \n",
       "4                    322             178            4.3  "
      ]
     },
     "execution_count": 34,
     "metadata": {},
     "output_type": "execute_result"
    }
   ],
   "source": [
    "flipkart.head()"
   ]
  },
  {
   "cell_type": "code",
   "execution_count": 35,
   "id": "5b7e9db2",
   "metadata": {},
   "outputs": [
    {
     "data": {
      "text/html": [
       "<div>\n",
       "<style scoped>\n",
       "    .dataframe tbody tr th:only-of-type {\n",
       "        vertical-align: middle;\n",
       "    }\n",
       "\n",
       "    .dataframe tbody tr th {\n",
       "        vertical-align: top;\n",
       "    }\n",
       "\n",
       "    .dataframe thead th {\n",
       "        text-align: right;\n",
       "    }\n",
       "</style>\n",
       "<table border=\"1\" class=\"dataframe\">\n",
       "  <thead>\n",
       "    <tr style=\"text-align: right;\">\n",
       "      <th></th>\n",
       "      <th>flipkart_isbn10</th>\n",
       "      <th>flipkart_price</th>\n",
       "    </tr>\n",
       "  </thead>\n",
       "  <tbody>\n",
       "    <tr>\n",
       "      <th>count</th>\n",
       "      <td>1.382000e+03</td>\n",
       "      <td>1382.000000</td>\n",
       "    </tr>\n",
       "    <tr>\n",
       "      <th>mean</th>\n",
       "      <td>7.758529e+09</td>\n",
       "      <td>263.436324</td>\n",
       "    </tr>\n",
       "    <tr>\n",
       "      <th>std</th>\n",
       "      <td>2.643135e+09</td>\n",
       "      <td>210.164006</td>\n",
       "    </tr>\n",
       "    <tr>\n",
       "      <th>min</th>\n",
       "      <td>1.250006e+09</td>\n",
       "      <td>30.000000</td>\n",
       "    </tr>\n",
       "    <tr>\n",
       "      <th>25%</th>\n",
       "      <td>8.172235e+09</td>\n",
       "      <td>149.250000</td>\n",
       "    </tr>\n",
       "    <tr>\n",
       "      <th>50%</th>\n",
       "      <td>8.192911e+09</td>\n",
       "      <td>220.000000</td>\n",
       "    </tr>\n",
       "    <tr>\n",
       "      <th>75%</th>\n",
       "      <td>9.352865e+09</td>\n",
       "      <td>320.000000</td>\n",
       "    </tr>\n",
       "    <tr>\n",
       "      <th>max</th>\n",
       "      <td>9.960900e+09</td>\n",
       "      <td>5201.000000</td>\n",
       "    </tr>\n",
       "  </tbody>\n",
       "</table>\n",
       "</div>"
      ],
      "text/plain": [
       "       flipkart_isbn10  flipkart_price\n",
       "count     1.382000e+03     1382.000000\n",
       "mean      7.758529e+09      263.436324\n",
       "std       2.643135e+09      210.164006\n",
       "min       1.250006e+09       30.000000\n",
       "25%       8.172235e+09      149.250000\n",
       "50%       8.192911e+09      220.000000\n",
       "75%       9.352865e+09      320.000000\n",
       "max       9.960900e+09     5201.000000"
      ]
     },
     "execution_count": 35,
     "metadata": {},
     "output_type": "execute_result"
    }
   ],
   "source": [
    "flipkart.describe()"
   ]
  },
  {
   "cell_type": "markdown",
   "id": "038f3088",
   "metadata": {},
   "source": [
    "# Check the range of prices of every single book on Flipkart"
   ]
  },
  {
   "cell_type": "code",
   "execution_count": 36,
   "id": "21198963",
   "metadata": {},
   "outputs": [
    {
     "data": {
      "text/plain": [
       "<AxesSubplot:xlabel='flipkart_price', ylabel='Count'>"
      ]
     },
     "execution_count": 36,
     "metadata": {},
     "output_type": "execute_result"
    },
    {
     "data": {
      "image/png": "[encoded data removed]",
      "text/plain": [
       "<Figure size 1080x360 with 1 Axes>"
      ]
     },
     "metadata": {},
     "output_type": "display_data"
    }
   ],
   "source": [
    "plt.figure(figsize=(15,5))\n",
    "sns.set_style(\"whitegrid\")\n",
    "sns.histplot(data = flipkart, x = \"flipkart_price\", kde = True, legend = True, bins = 70)"
   ]
  },
  {
   "cell_type": "code",
   "execution_count": 37,
   "id": "309137c9",
   "metadata": {},
   "outputs": [
    {
     "data": {
      "text/plain": [
       "4.5    350\n",
       "4.4    319\n",
       "4.3    207\n",
       "4.6    197\n",
       "4.2     92\n",
       "4.7     57\n",
       "4.8     36\n",
       "4.1     34\n",
       "4       25\n",
       "        24\n",
       "5       13\n",
       "3.9     10\n",
       "4.9      7\n",
       "3.8      6\n",
       "3        2\n",
       "3.6      2\n",
       "3.7      1\n",
       "Name: flipkart_stars, dtype: int64"
      ]
     },
     "execution_count": 37,
     "metadata": {},
     "output_type": "execute_result"
    }
   ],
   "source": [
    "flipkart['flipkart_stars'].value_counts()"
   ]
  },
  {
   "cell_type": "markdown",
   "id": "0fda90fa",
   "metadata": {},
   "source": [
    "# Removing the rows from the data having null \"flipkart_stars\" values"
   ]
  },
  {
   "cell_type": "code",
   "execution_count": 38,
   "id": "5720cbc1",
   "metadata": {},
   "outputs": [],
   "source": [
    "flipkart1 = flipkart[flipkart['flipkart_stars']!=\" \"]"
   ]
  },
  {
   "cell_type": "code",
   "execution_count": 39,
   "id": "ba5a15c8",
   "metadata": {},
   "outputs": [
    {
     "data": {
      "text/html": [
       "<div>\n",
       "<style scoped>\n",
       "    .dataframe tbody tr th:only-of-type {\n",
       "        vertical-align: middle;\n",
       "    }\n",
       "\n",
       "    .dataframe tbody tr th {\n",
       "        vertical-align: top;\n",
       "    }\n",
       "\n",
       "    .dataframe thead th {\n",
       "        text-align: right;\n",
       "    }\n",
       "</style>\n",
       "<table border=\"1\" class=\"dataframe\">\n",
       "  <thead>\n",
       "    <tr style=\"text-align: right;\">\n",
       "      <th></th>\n",
       "      <th>flipkart_author</th>\n",
       "      <th>flipkart_isbn10</th>\n",
       "      <th>flipkart_title</th>\n",
       "      <th>flipkart_ratings count</th>\n",
       "      <th>flipkart_price</th>\n",
       "      <th>flipkart_stars</th>\n",
       "    </tr>\n",
       "  </thead>\n",
       "  <tbody>\n",
       "    <tr>\n",
       "      <th>0</th>\n",
       "      <td>Sidney Sheldon</td>\n",
       "      <td>8172234902</td>\n",
       "      <td>TELL ME YOUR DREAMS</td>\n",
       "      <td>902</td>\n",
       "      <td>209</td>\n",
       "      <td>4.5</td>\n",
       "    </tr>\n",
       "    <tr>\n",
       "      <th>1</th>\n",
       "      <td></td>\n",
       "      <td>1862305277</td>\n",
       "      <td>The Boy in the Striped Pyjamas</td>\n",
       "      <td>83</td>\n",
       "      <td>372</td>\n",
       "      <td>4.5</td>\n",
       "    </tr>\n",
       "    <tr>\n",
       "      <th>2</th>\n",
       "      <td>Anil Lamba</td>\n",
       "      <td>9350294311</td>\n",
       "      <td>ROMANCING THE BALANCE SHEET</td>\n",
       "      <td>352</td>\n",
       "      <td>477</td>\n",
       "      <td>4.5</td>\n",
       "    </tr>\n",
       "    <tr>\n",
       "      <th>3</th>\n",
       "      <td>Bar-Zohar Michael</td>\n",
       "      <td>8184958455</td>\n",
       "      <td>Mossad</td>\n",
       "      <td>560</td>\n",
       "      <td>280</td>\n",
       "      <td>4.5</td>\n",
       "    </tr>\n",
       "    <tr>\n",
       "      <th>4</th>\n",
       "      <td>Kamala Das</td>\n",
       "      <td>8172238975</td>\n",
       "      <td>MY STORY</td>\n",
       "      <td>322</td>\n",
       "      <td>178</td>\n",
       "      <td>4.3</td>\n",
       "    </tr>\n",
       "  </tbody>\n",
       "</table>\n",
       "</div>"
      ],
      "text/plain": [
       "       flipkart_author  flipkart_isbn10                   flipkart_title  \\\n",
       "0       Sidney Sheldon       8172234902              TELL ME YOUR DREAMS   \n",
       "1                            1862305277   The Boy in the Striped Pyjamas   \n",
       "2           Anil Lamba       9350294311      ROMANCING THE BALANCE SHEET   \n",
       "3    Bar-Zohar Michael       8184958455                           Mossad   \n",
       "4           Kamala Das       8172238975                         MY STORY   \n",
       "\n",
       "  flipkart_ratings count  flipkart_price flipkart_stars  \n",
       "0                    902             209            4.5  \n",
       "1                     83             372            4.5  \n",
       "2                    352             477            4.5  \n",
       "3                    560             280            4.5  \n",
       "4                    322             178            4.3  "
      ]
     },
     "execution_count": 39,
     "metadata": {},
     "output_type": "execute_result"
    }
   ],
   "source": [
    "flipkart1.head()"
   ]
  },
  {
   "cell_type": "code",
   "execution_count": 40,
   "id": "e05098e1",
   "metadata": {},
   "outputs": [
    {
     "data": {
      "text/plain": [
       "4.5    350\n",
       "4.4    319\n",
       "4.3    207\n",
       "4.6    197\n",
       "4.2     92\n",
       "4.7     57\n",
       "4.8     36\n",
       "4.1     34\n",
       "4       25\n",
       "5       13\n",
       "3.9     10\n",
       "4.9      7\n",
       "3.8      6\n",
       "3.6      2\n",
       "3        2\n",
       "3.7      1\n",
       "Name: flipkart_stars, dtype: int64"
      ]
     },
     "execution_count": 40,
     "metadata": {},
     "output_type": "execute_result"
    }
   ],
   "source": [
    "flipkart1['flipkart_stars'].value_counts()"
   ]
  },
  {
   "cell_type": "code",
   "execution_count": 41,
   "id": "fda65048",
   "metadata": {},
   "outputs": [],
   "source": [
    "def stars_impute(col):\n",
    "    flipkart_stars=col[0]\n",
    "    if flipkart_stars==\" 4\":\n",
    "        flipkart_stars.str.replace(\" 4\",\"4.0\")\n",
    "    elif flipkart_stars==\" 5\":\n",
    "        flipkart_stars.str.replace(\" 5\",\"5.0\")\n",
    "    elif flipkart_stars==\" 3\":\n",
    "        flipkart_stars.str.replace(\" 3\",\"3.0\")\n",
    "    else:\n",
    "        return flipkart_stars\n"
   ]
  },
  {
   "cell_type": "code",
   "execution_count": 42,
   "id": "e7a17002",
   "metadata": {},
   "outputs": [
    {
     "name": "stderr",
     "output_type": "stream",
     "text": [
      "<ipython-input-42-7e09479edd4c>:1: SettingWithCopyWarning: \n",
      "A value is trying to be set on a copy of a slice from a DataFrame.\n",
      "Try using .loc[row_indexer,col_indexer] = value instead\n",
      "\n",
      "See the caveats in the documentation: https://pandas.pydata.org/pandas-docs/stable/user_guide/indexing.html#returning-a-view-versus-a-copy\n",
      "  flipkart1[\"flipkart_stars\"] = flipkart1[[\"flipkart_stars\"]].apply( stars_impute,axis=1)\n"
     ]
    }
   ],
   "source": [
    "flipkart1[\"flipkart_stars\"] = flipkart1[[\"flipkart_stars\"]].apply( stars_impute,axis=1)"
   ]
  },
  {
   "cell_type": "code",
   "execution_count": 43,
   "id": "0f841b43",
   "metadata": {},
   "outputs": [
    {
     "name": "stderr",
     "output_type": "stream",
     "text": [
      "<ipython-input-43-5f5cb37bdb31>:2: SettingWithCopyWarning: \n",
      "A value is trying to be set on a copy of a slice from a DataFrame.\n",
      "Try using .loc[row_indexer,col_indexer] = value instead\n",
      "\n",
      "See the caveats in the documentation: https://pandas.pydata.org/pandas-docs/stable/user_guide/indexing.html#returning-a-view-versus-a-copy\n",
      "  flipkart1[\"flipkart_stars\"]=pd.to_numeric(flipkart1[\"flipkart_stars\"])\n"
     ]
    }
   ],
   "source": [
    "flipkart1[\"flipkart_stars\"].value_counts()\n",
    "flipkart1[\"flipkart_stars\"]=pd.to_numeric(flipkart1[\"flipkart_stars\"])"
   ]
  },
  {
   "cell_type": "code",
   "execution_count": 44,
   "id": "02256bb6",
   "metadata": {},
   "outputs": [
    {
     "data": {
      "text/plain": [
       "<AxesSubplot:xlabel='flipkart_stars', ylabel='Count'>"
      ]
     },
     "execution_count": 44,
     "metadata": {},
     "output_type": "execute_result"
    },
    {
     "data": {
      "image/png": "[encoded data removed]",
      "text/plain": [
       "<Figure size 1080x360 with 1 Axes>"
      ]
     },
     "metadata": {},
     "output_type": "display_data"
    }
   ],
   "source": [
    "plt.figure(figsize=(15,5))\n",
    "sns.set(style=\"darkgrid\")\n",
    "sns.histplot(data=flipkart1,x=\"flipkart_stars\", legend=True)    "
   ]
  },
  {
   "cell_type": "markdown",
   "id": "89116434",
   "metadata": {},
   "source": [
    "# Flipkart ratings"
   ]
  },
  {
   "cell_type": "code",
   "execution_count": 45,
   "id": "19d2d7ef",
   "metadata": {},
   "outputs": [],
   "source": [
    "flipkart1 = flipkart1[flipkart1[\"flipkart_author\"]!=\" \"]"
   ]
  },
  {
   "cell_type": "code",
   "execution_count": 46,
   "id": "28e1498e",
   "metadata": {},
   "outputs": [],
   "source": [
    "l1=list(flipkart1[\"flipkart_author\"].value_counts().keys()[0:30])\n",
    "l2=list(flipkart1[\"flipkart_author\"].value_counts().values[0:30])"
   ]
  },
  {
   "cell_type": "code",
   "execution_count": 47,
   "id": "4c55f205",
   "metadata": {},
   "outputs": [
    {
     "data": {
      "text/plain": [
       "Text(0, 0.5, 'Authors on flipkart')"
      ]
     },
     "execution_count": 47,
     "metadata": {},
     "output_type": "execute_result"
    },
    {
     "data": {
      "image/png": "[encoded data removed]",
      "text/plain": [
       "<Figure size 1080x576 with 1 Axes>"
      ]
     },
     "metadata": {},
     "output_type": "display_data"
    }
   ],
   "source": [
    "plt.figure(figsize=(15,8))\n",
    "sns.set(style=\"darkgrid\")\n",
    "sns.barplot(x=l2,y=l1,data=flipkart1)\n",
    "plt.xlabel(\"Count\")\n",
    "plt.ylabel(\"Authors on flipkart\")"
   ]
  },
  {
   "cell_type": "markdown",
   "id": "c7996dbe",
   "metadata": {},
   "source": [
    "# Top 30 Authors on Flipkart"
   ]
  },
  {
   "cell_type": "code",
   "execution_count": 48,
   "id": "b23c78e4",
   "metadata": {},
   "outputs": [
    {
     "data": {
      "text/html": [
       "<div>\n",
       "<style scoped>\n",
       "    .dataframe tbody tr th:only-of-type {\n",
       "        vertical-align: middle;\n",
       "    }\n",
       "\n",
       "    .dataframe tbody tr th {\n",
       "        vertical-align: top;\n",
       "    }\n",
       "\n",
       "    .dataframe thead th {\n",
       "        text-align: right;\n",
       "    }\n",
       "</style>\n",
       "<table border=\"1\" class=\"dataframe\">\n",
       "  <thead>\n",
       "    <tr style=\"text-align: right;\">\n",
       "      <th></th>\n",
       "      <th>amazon_title</th>\n",
       "      <th>amazon_author</th>\n",
       "      <th>amazon_rating</th>\n",
       "      <th>amazon_reviews count</th>\n",
       "      <th>amazon_isbn-10</th>\n",
       "      <th>amazon_price</th>\n",
       "    </tr>\n",
       "  </thead>\n",
       "  <tbody>\n",
       "    <tr>\n",
       "      <th>0</th>\n",
       "      <td>Tell Me your Dreams</td>\n",
       "      <td>by Sidney Sheldon</td>\n",
       "      <td>4.4</td>\n",
       "      <td>160.0</td>\n",
       "      <td>8172234902</td>\n",
       "      <td>209</td>\n",
       "    </tr>\n",
       "  </tbody>\n",
       "</table>\n",
       "</div>"
      ],
      "text/plain": [
       "          amazon_title      amazon_author  amazon_rating  \\\n",
       "0  Tell Me your Dreams  by Sidney Sheldon            4.4   \n",
       "\n",
       "   amazon_reviews count  amazon_isbn-10  amazon_price  \n",
       "0                 160.0      8172234902           209  "
      ]
     },
     "execution_count": 48,
     "metadata": {},
     "output_type": "execute_result"
    }
   ],
   "source": [
    "amazon.head(1)"
   ]
  },
  {
   "cell_type": "code",
   "execution_count": 49,
   "id": "ce19cff5",
   "metadata": {},
   "outputs": [
    {
     "data": {
      "text/html": [
       "<div>\n",
       "<style scoped>\n",
       "    .dataframe tbody tr th:only-of-type {\n",
       "        vertical-align: middle;\n",
       "    }\n",
       "\n",
       "    .dataframe tbody tr th {\n",
       "        vertical-align: top;\n",
       "    }\n",
       "\n",
       "    .dataframe thead th {\n",
       "        text-align: right;\n",
       "    }\n",
       "</style>\n",
       "<table border=\"1\" class=\"dataframe\">\n",
       "  <thead>\n",
       "    <tr style=\"text-align: right;\">\n",
       "      <th></th>\n",
       "      <th>flipkart_author</th>\n",
       "      <th>flipkart_isbn10</th>\n",
       "      <th>flipkart_title</th>\n",
       "      <th>flipkart_ratings count</th>\n",
       "      <th>flipkart_price</th>\n",
       "      <th>flipkart_stars</th>\n",
       "    </tr>\n",
       "  </thead>\n",
       "  <tbody>\n",
       "    <tr>\n",
       "      <th>0</th>\n",
       "      <td>Sidney Sheldon</td>\n",
       "      <td>8172234902</td>\n",
       "      <td>TELL ME YOUR DREAMS</td>\n",
       "      <td>902</td>\n",
       "      <td>209</td>\n",
       "      <td>4.5</td>\n",
       "    </tr>\n",
       "  </tbody>\n",
       "</table>\n",
       "</div>"
      ],
      "text/plain": [
       "    flipkart_author  flipkart_isbn10        flipkart_title  \\\n",
       "0    Sidney Sheldon       8172234902   TELL ME YOUR DREAMS   \n",
       "\n",
       "  flipkart_ratings count  flipkart_price  flipkart_stars  \n",
       "0                    902             209             4.5  "
      ]
     },
     "execution_count": 49,
     "metadata": {},
     "output_type": "execute_result"
    }
   ],
   "source": [
    "flipkart1.head(1)"
   ]
  },
  {
   "cell_type": "code",
   "execution_count": 50,
   "id": "36c9034d",
   "metadata": {},
   "outputs": [],
   "source": [
    "amazon.rename(columns = {\"amazon_isbn-10\":\"ISBN_10\"}, inplace = True)"
   ]
  },
  {
   "cell_type": "code",
   "execution_count": 51,
   "id": "3aca4a45",
   "metadata": {},
   "outputs": [
    {
     "data": {
      "text/html": [
       "<div>\n",
       "<style scoped>\n",
       "    .dataframe tbody tr th:only-of-type {\n",
       "        vertical-align: middle;\n",
       "    }\n",
       "\n",
       "    .dataframe tbody tr th {\n",
       "        vertical-align: top;\n",
       "    }\n",
       "\n",
       "    .dataframe thead th {\n",
       "        text-align: right;\n",
       "    }\n",
       "</style>\n",
       "<table border=\"1\" class=\"dataframe\">\n",
       "  <thead>\n",
       "    <tr style=\"text-align: right;\">\n",
       "      <th></th>\n",
       "      <th>amazon_title</th>\n",
       "      <th>amazon_author</th>\n",
       "      <th>amazon_rating</th>\n",
       "      <th>amazon_reviews count</th>\n",
       "      <th>ISBN_10</th>\n",
       "      <th>amazon_price</th>\n",
       "    </tr>\n",
       "  </thead>\n",
       "  <tbody>\n",
       "    <tr>\n",
       "      <th>0</th>\n",
       "      <td>Tell Me your Dreams</td>\n",
       "      <td>by Sidney Sheldon</td>\n",
       "      <td>4.4</td>\n",
       "      <td>160.0</td>\n",
       "      <td>8172234902</td>\n",
       "      <td>209</td>\n",
       "    </tr>\n",
       "  </tbody>\n",
       "</table>\n",
       "</div>"
      ],
      "text/plain": [
       "          amazon_title      amazon_author  amazon_rating  \\\n",
       "0  Tell Me your Dreams  by Sidney Sheldon            4.4   \n",
       "\n",
       "   amazon_reviews count     ISBN_10  amazon_price  \n",
       "0                 160.0  8172234902           209  "
      ]
     },
     "execution_count": 51,
     "metadata": {},
     "output_type": "execute_result"
    }
   ],
   "source": [
    "amazon.head(1)"
   ]
  },
  {
   "cell_type": "code",
   "execution_count": 52,
   "id": "9df10ab8",
   "metadata": {},
   "outputs": [],
   "source": [
    "flipkart1.rename(columns = {\"flipkart_isbn10\":\"ISBN_10\"}, inplace = True)"
   ]
  },
  {
   "cell_type": "code",
   "execution_count": 53,
   "id": "4fbd3fd4",
   "metadata": {},
   "outputs": [
    {
     "data": {
      "text/html": [
       "<div>\n",
       "<style scoped>\n",
       "    .dataframe tbody tr th:only-of-type {\n",
       "        vertical-align: middle;\n",
       "    }\n",
       "\n",
       "    .dataframe tbody tr th {\n",
       "        vertical-align: top;\n",
       "    }\n",
       "\n",
       "    .dataframe thead th {\n",
       "        text-align: right;\n",
       "    }\n",
       "</style>\n",
       "<table border=\"1\" class=\"dataframe\">\n",
       "  <thead>\n",
       "    <tr style=\"text-align: right;\">\n",
       "      <th></th>\n",
       "      <th>flipkart_author</th>\n",
       "      <th>ISBN_10</th>\n",
       "      <th>flipkart_title</th>\n",
       "      <th>flipkart_ratings count</th>\n",
       "      <th>flipkart_price</th>\n",
       "      <th>flipkart_stars</th>\n",
       "    </tr>\n",
       "  </thead>\n",
       "  <tbody>\n",
       "    <tr>\n",
       "      <th>0</th>\n",
       "      <td>Sidney Sheldon</td>\n",
       "      <td>8172234902</td>\n",
       "      <td>TELL ME YOUR DREAMS</td>\n",
       "      <td>902</td>\n",
       "      <td>209</td>\n",
       "      <td>4.5</td>\n",
       "    </tr>\n",
       "  </tbody>\n",
       "</table>\n",
       "</div>"
      ],
      "text/plain": [
       "    flipkart_author     ISBN_10        flipkart_title flipkart_ratings count  \\\n",
       "0    Sidney Sheldon  8172234902   TELL ME YOUR DREAMS                    902   \n",
       "\n",
       "   flipkart_price  flipkart_stars  \n",
       "0             209             4.5  "
      ]
     },
     "execution_count": 53,
     "metadata": {},
     "output_type": "execute_result"
    }
   ],
   "source": [
    "flipkart1.head(1)"
   ]
  },
  {
   "cell_type": "code",
   "execution_count": 54,
   "id": "7b0fb2fb",
   "metadata": {},
   "outputs": [],
   "source": [
    "joint_data = pd.merge(amazon, flipkart1, on=\"ISBN_10\", how = \"inner\")"
   ]
  },
  {
   "cell_type": "code",
   "execution_count": 55,
   "id": "ec4b18d2",
   "metadata": {},
   "outputs": [
    {
     "data": {
      "text/html": [
       "<div>\n",
       "<style scoped>\n",
       "    .dataframe tbody tr th:only-of-type {\n",
       "        vertical-align: middle;\n",
       "    }\n",
       "\n",
       "    .dataframe tbody tr th {\n",
       "        vertical-align: top;\n",
       "    }\n",
       "\n",
       "    .dataframe thead th {\n",
       "        text-align: right;\n",
       "    }\n",
       "</style>\n",
       "<table border=\"1\" class=\"dataframe\">\n",
       "  <thead>\n",
       "    <tr style=\"text-align: right;\">\n",
       "      <th></th>\n",
       "      <th>amazon_title</th>\n",
       "      <th>amazon_author</th>\n",
       "      <th>amazon_rating</th>\n",
       "      <th>amazon_reviews count</th>\n",
       "      <th>ISBN_10</th>\n",
       "      <th>amazon_price</th>\n",
       "      <th>flipkart_author</th>\n",
       "      <th>flipkart_title</th>\n",
       "      <th>flipkart_ratings count</th>\n",
       "      <th>flipkart_price</th>\n",
       "      <th>flipkart_stars</th>\n",
       "    </tr>\n",
       "  </thead>\n",
       "  <tbody>\n",
       "    <tr>\n",
       "      <th>0</th>\n",
       "      <td>Tell Me your Dreams</td>\n",
       "      <td>by Sidney Sheldon</td>\n",
       "      <td>4.4</td>\n",
       "      <td>160.0</td>\n",
       "      <td>8172234902</td>\n",
       "      <td>209</td>\n",
       "      <td>Sidney Sheldon</td>\n",
       "      <td>TELL ME YOUR DREAMS</td>\n",
       "      <td>902</td>\n",
       "      <td>209</td>\n",
       "      <td>4.5</td>\n",
       "    </tr>\n",
       "  </tbody>\n",
       "</table>\n",
       "</div>"
      ],
      "text/plain": [
       "          amazon_title      amazon_author  amazon_rating  \\\n",
       "0  Tell Me your Dreams  by Sidney Sheldon            4.4   \n",
       "\n",
       "   amazon_reviews count     ISBN_10  amazon_price   flipkart_author  \\\n",
       "0                 160.0  8172234902           209    Sidney Sheldon   \n",
       "\n",
       "         flipkart_title flipkart_ratings count  flipkart_price  flipkart_stars  \n",
       "0   TELL ME YOUR DREAMS                    902             209             4.5  "
      ]
     },
     "execution_count": 55,
     "metadata": {},
     "output_type": "execute_result"
    }
   ],
   "source": [
    "joint_data.head(1)"
   ]
  },
  {
   "cell_type": "code",
   "execution_count": 56,
   "id": "184d32b1",
   "metadata": {},
   "outputs": [
    {
     "data": {
      "text/plain": [
       "<bound method DataFrame.duplicated of                                            amazon_title       amazon_author  \\\n",
       "0                                   Tell Me your Dreams   by Sidney Sheldon   \n",
       "1                                   Tell Me your Dreams   by Sidney Sheldon   \n",
       "2                                   Tell Me your Dreams   by Sidney Sheldon   \n",
       "3                                   Tell Me your Dreams   by Sidney Sheldon   \n",
       "4                                   Tell Me your Dreams   by Sidney Sheldon   \n",
       "...                                                 ...                 ...   \n",
       "4178                           The Secret to Teen Power  by Paul Harrington   \n",
       "4179  Harry Potter and the Deathly Hallows (Harry Po...     by J.K. Rowling   \n",
       "4180                                    Sita's Ramayana     by Samhita Arni   \n",
       "4181     The Maze Runner #02 Scorch Trials Movie Tie-in    by James Dashner   \n",
       "4182    Tom Gates #10: Super Good Skills (Almost . . .)             by NILL   \n",
       "\n",
       "      amazon_rating  amazon_reviews count     ISBN_10  amazon_price  \\\n",
       "0               4.4                 160.0  8172234902           209   \n",
       "1               4.4                 160.0  8172234902           209   \n",
       "2               4.4                 160.0  8172234902           209   \n",
       "3               4.4                 160.0  8172234902           209   \n",
       "4               4.4                 160.0  8172234902           209   \n",
       "...             ...                   ...         ...           ...   \n",
       "4178            4.8                  48.0  1847386938           492   \n",
       "4179            4.6                 352.0  1408855712           666   \n",
       "4180            3.6                   5.0  9380340036           542   \n",
       "4181            3.9                  56.0  9351039684           247   \n",
       "4182            4.4                  24.0  9386041901           213   \n",
       "\n",
       "        flipkart_author                         flipkart_title  \\\n",
       "0        Sidney Sheldon                    TELL ME YOUR DREAMS   \n",
       "1        Sidney Sheldon                    TELL ME YOUR DREAMS   \n",
       "2        Sidney Sheldon                    TELL ME YOUR DREAMS   \n",
       "3        Sidney Sheldon                    TELL ME YOUR DREAMS   \n",
       "4        Sidney Sheldon                    TELL ME YOUR DREAMS   \n",
       "...                 ...                                    ...   \n",
       "4178    Harrington Paul               The Secret to Teen Power   \n",
       "4179      J. K. Rowling   Harry Potter and the Deathly Hallows   \n",
       "4180       Arni Samhita                        Sita's Ramayana   \n",
       "4181      James Dashner                      The Scorch Trials   \n",
       "4182            unknown                          Tom Gates #10   \n",
       "\n",
       "     flipkart_ratings count  flipkart_price  flipkart_stars  \n",
       "0                       902             209             4.5  \n",
       "1                       902             209             4.5  \n",
       "2                       902             209             4.5  \n",
       "3                       902             209             4.5  \n",
       "4                       902             209             4.5  \n",
       "...                     ...             ...             ...  \n",
       "4178                    207             373             4.5  \n",
       "4179                   2083             452             4.7  \n",
       "4180                     19             550             4.1  \n",
       "4181                    180             234             4.6  \n",
       "4182                     94             237             4.6  \n",
       "\n",
       "[4183 rows x 11 columns]>"
      ]
     },
     "execution_count": 56,
     "metadata": {},
     "output_type": "execute_result"
    }
   ],
   "source": [
    "joint_data.duplicated"
   ]
  },
  {
   "cell_type": "code",
   "execution_count": 57,
   "id": "732a56ba",
   "metadata": {},
   "outputs": [],
   "source": [
    "joint_data1 = joint_data.drop_duplicates()"
   ]
  },
  {
   "cell_type": "code",
   "execution_count": 58,
   "id": "ab3ba5f4",
   "metadata": {},
   "outputs": [
    {
     "data": {
      "text/plain": [
       "(682, 11)"
      ]
     },
     "execution_count": 58,
     "metadata": {},
     "output_type": "execute_result"
    }
   ],
   "source": [
    "joint_data1.shape"
   ]
  },
  {
   "cell_type": "code",
   "execution_count": 59,
   "id": "ea6553ac",
   "metadata": {},
   "outputs": [
    {
     "data": {
      "text/plain": [
       "amazon_title              0.000000\n",
       "amazon_author             0.000000\n",
       "amazon_rating             6.451613\n",
       "amazon_reviews count      0.000000\n",
       "ISBN_10                   0.000000\n",
       "amazon_price              0.000000\n",
       "flipkart_author           0.000000\n",
       "flipkart_title            0.000000\n",
       "flipkart_ratings count    0.000000\n",
       "flipkart_price            0.000000\n",
       "flipkart_stars            0.000000\n",
       "dtype: float64"
      ]
     },
     "execution_count": 59,
     "metadata": {},
     "output_type": "execute_result"
    }
   ],
   "source": [
    "(joint_data1.isnull().sum()/joint_data1.shape[0])*100"
   ]
  },
  {
   "cell_type": "code",
   "execution_count": 60,
   "id": "1407ffe7",
   "metadata": {},
   "outputs": [],
   "source": [
    "joint_data2 = joint_data1.dropna(axis=0)"
   ]
  },
  {
   "cell_type": "code",
   "execution_count": 61,
   "id": "923607f6",
   "metadata": {},
   "outputs": [
    {
     "data": {
      "text/plain": [
       "amazon_title              0.0\n",
       "amazon_author             0.0\n",
       "amazon_rating             0.0\n",
       "amazon_reviews count      0.0\n",
       "ISBN_10                   0.0\n",
       "amazon_price              0.0\n",
       "flipkart_author           0.0\n",
       "flipkart_title            0.0\n",
       "flipkart_ratings count    0.0\n",
       "flipkart_price            0.0\n",
       "flipkart_stars            0.0\n",
       "dtype: float64"
      ]
     },
     "execution_count": 61,
     "metadata": {},
     "output_type": "execute_result"
    }
   ],
   "source": [
    "(joint_data2.isnull().sum()/joint_data1.shape[0])*100"
   ]
  },
  {
   "cell_type": "code",
   "execution_count": 62,
   "id": "a784836a",
   "metadata": {},
   "outputs": [
    {
     "data": {
      "text/html": [
       "<div>\n",
       "<style scoped>\n",
       "    .dataframe tbody tr th:only-of-type {\n",
       "        vertical-align: middle;\n",
       "    }\n",
       "\n",
       "    .dataframe tbody tr th {\n",
       "        vertical-align: top;\n",
       "    }\n",
       "\n",
       "    .dataframe thead th {\n",
       "        text-align: right;\n",
       "    }\n",
       "</style>\n",
       "<table border=\"1\" class=\"dataframe\">\n",
       "  <thead>\n",
       "    <tr style=\"text-align: right;\">\n",
       "      <th></th>\n",
       "      <th>amazon_title</th>\n",
       "      <th>amazon_author</th>\n",
       "      <th>amazon_rating</th>\n",
       "      <th>amazon_reviews count</th>\n",
       "      <th>ISBN_10</th>\n",
       "      <th>amazon_price</th>\n",
       "      <th>flipkart_author</th>\n",
       "      <th>flipkart_title</th>\n",
       "      <th>flipkart_ratings count</th>\n",
       "      <th>flipkart_price</th>\n",
       "      <th>flipkart_stars</th>\n",
       "    </tr>\n",
       "  </thead>\n",
       "  <tbody>\n",
       "    <tr>\n",
       "      <th>0</th>\n",
       "      <td>Tell Me your Dreams</td>\n",
       "      <td>by Sidney Sheldon</td>\n",
       "      <td>4.4</td>\n",
       "      <td>160.0</td>\n",
       "      <td>8172234902</td>\n",
       "      <td>209</td>\n",
       "      <td>Sidney Sheldon</td>\n",
       "      <td>TELL ME YOUR DREAMS</td>\n",
       "      <td>902</td>\n",
       "      <td>209</td>\n",
       "      <td>4.5</td>\n",
       "    </tr>\n",
       "    <tr>\n",
       "      <th>36</th>\n",
       "      <td>Romancing the Balance Sheet: For Anyone Who Ow...</td>\n",
       "      <td>by Anil Lamba</td>\n",
       "      <td>4.5</td>\n",
       "      <td>156.0</td>\n",
       "      <td>9350294311</td>\n",
       "      <td>477</td>\n",
       "      <td>Anil Lamba</td>\n",
       "      <td>ROMANCING THE BALANCE SHEET</td>\n",
       "      <td>352</td>\n",
       "      <td>477</td>\n",
       "      <td>4.5</td>\n",
       "    </tr>\n",
       "    <tr>\n",
       "      <th>45</th>\n",
       "      <td>Mossad</td>\n",
       "      <td>by Michael Bar-Zohar - Import</td>\n",
       "      <td>4.6</td>\n",
       "      <td>637.0</td>\n",
       "      <td>8184958455</td>\n",
       "      <td>340</td>\n",
       "      <td>Bar-Zohar Michael</td>\n",
       "      <td>Mossad</td>\n",
       "      <td>560</td>\n",
       "      <td>280</td>\n",
       "      <td>4.5</td>\n",
       "    </tr>\n",
       "    <tr>\n",
       "      <th>94</th>\n",
       "      <td>My Story</td>\n",
       "      <td>by Kamala Das</td>\n",
       "      <td>4.5</td>\n",
       "      <td>42.0</td>\n",
       "      <td>8172238975</td>\n",
       "      <td>178</td>\n",
       "      <td>Kamala Das</td>\n",
       "      <td>MY STORY</td>\n",
       "      <td>322</td>\n",
       "      <td>178</td>\n",
       "      <td>4.3</td>\n",
       "    </tr>\n",
       "    <tr>\n",
       "      <th>110</th>\n",
       "      <td>Inspiring Thoughts (Inspiring Thoughts Quotati...</td>\n",
       "      <td>by A.P.J. Abdul Kalam</td>\n",
       "      <td>4.1</td>\n",
       "      <td>148.0</td>\n",
       "      <td>8170286840</td>\n",
       "      <td>120</td>\n",
       "      <td>Abdul Kalam A. P. J.</td>\n",
       "      <td>Inspiring Thoughts</td>\n",
       "      <td>357</td>\n",
       "      <td>149</td>\n",
       "      <td>4.2</td>\n",
       "    </tr>\n",
       "  </tbody>\n",
       "</table>\n",
       "</div>"
      ],
      "text/plain": [
       "                                          amazon_title  \\\n",
       "0                                  Tell Me your Dreams   \n",
       "36   Romancing the Balance Sheet: For Anyone Who Ow...   \n",
       "45                                              Mossad   \n",
       "94                                            My Story   \n",
       "110  Inspiring Thoughts (Inspiring Thoughts Quotati...   \n",
       "\n",
       "                     amazon_author  amazon_rating  amazon_reviews count  \\\n",
       "0                by Sidney Sheldon            4.4                 160.0   \n",
       "36                   by Anil Lamba            4.5                 156.0   \n",
       "45   by Michael Bar-Zohar - Import            4.6                 637.0   \n",
       "94                   by Kamala Das            4.5                  42.0   \n",
       "110          by A.P.J. Abdul Kalam            4.1                 148.0   \n",
       "\n",
       "        ISBN_10  amazon_price         flipkart_author  \\\n",
       "0    8172234902           209          Sidney Sheldon   \n",
       "36   9350294311           477              Anil Lamba   \n",
       "45   8184958455           340       Bar-Zohar Michael   \n",
       "94   8172238975           178              Kamala Das   \n",
       "110  8170286840           120    Abdul Kalam A. P. J.   \n",
       "\n",
       "                   flipkart_title flipkart_ratings count  flipkart_price  \\\n",
       "0             TELL ME YOUR DREAMS                    902             209   \n",
       "36    ROMANCING THE BALANCE SHEET                    352             477   \n",
       "45                         Mossad                    560             280   \n",
       "94                       MY STORY                    322             178   \n",
       "110            Inspiring Thoughts                    357             149   \n",
       "\n",
       "     flipkart_stars  \n",
       "0               4.5  \n",
       "36              4.5  \n",
       "45              4.5  \n",
       "94              4.3  \n",
       "110             4.2  "
      ]
     },
     "execution_count": 62,
     "metadata": {},
     "output_type": "execute_result"
    }
   ],
   "source": [
    "joint_data2.head()"
   ]
  },
  {
   "cell_type": "code",
   "execution_count": 63,
   "id": "104660a7",
   "metadata": {},
   "outputs": [
    {
     "data": {
      "text/plain": [
       "(638, 11)"
      ]
     },
     "execution_count": 63,
     "metadata": {},
     "output_type": "execute_result"
    }
   ],
   "source": [
    "joint_data2.shape"
   ]
  },
  {
   "cell_type": "code",
   "execution_count": 64,
   "id": "2c9ba389",
   "metadata": {},
   "outputs": [
    {
     "data": {
      "text/html": [
       "<div>\n",
       "<style scoped>\n",
       "    .dataframe tbody tr th:only-of-type {\n",
       "        vertical-align: middle;\n",
       "    }\n",
       "\n",
       "    .dataframe tbody tr th {\n",
       "        vertical-align: top;\n",
       "    }\n",
       "\n",
       "    .dataframe thead th {\n",
       "        text-align: right;\n",
       "    }\n",
       "</style>\n",
       "<table border=\"1\" class=\"dataframe\">\n",
       "  <thead>\n",
       "    <tr style=\"text-align: right;\">\n",
       "      <th></th>\n",
       "      <th>amazon_title</th>\n",
       "      <th>amazon_author</th>\n",
       "      <th>amazon_rating</th>\n",
       "      <th>amazon_reviews count</th>\n",
       "      <th>ISBN_10</th>\n",
       "      <th>amazon_price</th>\n",
       "      <th>flipkart_author</th>\n",
       "      <th>flipkart_title</th>\n",
       "      <th>flipkart_ratings count</th>\n",
       "      <th>flipkart_price</th>\n",
       "      <th>flipkart_stars</th>\n",
       "    </tr>\n",
       "  </thead>\n",
       "  <tbody>\n",
       "    <tr>\n",
       "      <th>0</th>\n",
       "      <td>Tell Me your Dreams</td>\n",
       "      <td>by Sidney Sheldon</td>\n",
       "      <td>4.4</td>\n",
       "      <td>160.0</td>\n",
       "      <td>8172234902</td>\n",
       "      <td>209</td>\n",
       "      <td>Sidney Sheldon</td>\n",
       "      <td>TELL ME YOUR DREAMS</td>\n",
       "      <td>902</td>\n",
       "      <td>209</td>\n",
       "      <td>4.5</td>\n",
       "    </tr>\n",
       "  </tbody>\n",
       "</table>\n",
       "</div>"
      ],
      "text/plain": [
       "          amazon_title      amazon_author  amazon_rating  \\\n",
       "0  Tell Me your Dreams  by Sidney Sheldon            4.4   \n",
       "\n",
       "   amazon_reviews count     ISBN_10  amazon_price   flipkart_author  \\\n",
       "0                 160.0  8172234902           209    Sidney Sheldon   \n",
       "\n",
       "         flipkart_title flipkart_ratings count  flipkart_price  flipkart_stars  \n",
       "0   TELL ME YOUR DREAMS                    902             209             4.5  "
      ]
     },
     "execution_count": 64,
     "metadata": {},
     "output_type": "execute_result"
    }
   ],
   "source": [
    "joint_data2.head(1)"
   ]
  },
  {
   "cell_type": "code",
   "execution_count": 65,
   "id": "4ad889a7",
   "metadata": {},
   "outputs": [],
   "source": [
    "joint_data3=joint_data2.rename(columns={\"amazon_title\":\"Book_title\",\"flipkart_author\":\"Book_Author\",\"flipkart_stars\":\"flipkart_rating\",\"flipkart_ratings count\":\"flipkart_reviews count\"})"
   ]
  },
  {
   "cell_type": "code",
   "execution_count": 66,
   "id": "7f9db1ec",
   "metadata": {},
   "outputs": [
    {
     "data": {
      "text/html": [
       "<div>\n",
       "<style scoped>\n",
       "    .dataframe tbody tr th:only-of-type {\n",
       "        vertical-align: middle;\n",
       "    }\n",
       "\n",
       "    .dataframe tbody tr th {\n",
       "        vertical-align: top;\n",
       "    }\n",
       "\n",
       "    .dataframe thead th {\n",
       "        text-align: right;\n",
       "    }\n",
       "</style>\n",
       "<table border=\"1\" class=\"dataframe\">\n",
       "  <thead>\n",
       "    <tr style=\"text-align: right;\">\n",
       "      <th></th>\n",
       "      <th>Book_title</th>\n",
       "      <th>amazon_author</th>\n",
       "      <th>amazon_rating</th>\n",
       "      <th>amazon_reviews count</th>\n",
       "      <th>ISBN_10</th>\n",
       "      <th>amazon_price</th>\n",
       "      <th>Book_Author</th>\n",
       "      <th>flipkart_title</th>\n",
       "      <th>flipkart_reviews count</th>\n",
       "      <th>flipkart_price</th>\n",
       "      <th>flipkart_rating</th>\n",
       "    </tr>\n",
       "  </thead>\n",
       "  <tbody>\n",
       "    <tr>\n",
       "      <th>0</th>\n",
       "      <td>Tell Me your Dreams</td>\n",
       "      <td>by Sidney Sheldon</td>\n",
       "      <td>4.4</td>\n",
       "      <td>160.0</td>\n",
       "      <td>8172234902</td>\n",
       "      <td>209</td>\n",
       "      <td>Sidney Sheldon</td>\n",
       "      <td>TELL ME YOUR DREAMS</td>\n",
       "      <td>902</td>\n",
       "      <td>209</td>\n",
       "      <td>4.5</td>\n",
       "    </tr>\n",
       "  </tbody>\n",
       "</table>\n",
       "</div>"
      ],
      "text/plain": [
       "            Book_title      amazon_author  amazon_rating  \\\n",
       "0  Tell Me your Dreams  by Sidney Sheldon            4.4   \n",
       "\n",
       "   amazon_reviews count     ISBN_10  amazon_price       Book_Author  \\\n",
       "0                 160.0  8172234902           209    Sidney Sheldon   \n",
       "\n",
       "         flipkart_title flipkart_reviews count  flipkart_price  \\\n",
       "0   TELL ME YOUR DREAMS                    902             209   \n",
       "\n",
       "   flipkart_rating  \n",
       "0              4.5  "
      ]
     },
     "execution_count": 66,
     "metadata": {},
     "output_type": "execute_result"
    }
   ],
   "source": [
    "joint_data3.head(1)"
   ]
  },
  {
   "cell_type": "code",
   "execution_count": 67,
   "id": "222ed973",
   "metadata": {},
   "outputs": [],
   "source": [
    "joint_data_4 = joint_data3.drop([\"amazon_author\", \"ISBN_10\", \"flipkart_title\" ], axis=1)"
   ]
  },
  {
   "cell_type": "code",
   "execution_count": 68,
   "id": "d90c10a5",
   "metadata": {},
   "outputs": [
    {
     "data": {
      "text/html": [
       "<div>\n",
       "<style scoped>\n",
       "    .dataframe tbody tr th:only-of-type {\n",
       "        vertical-align: middle;\n",
       "    }\n",
       "\n",
       "    .dataframe tbody tr th {\n",
       "        vertical-align: top;\n",
       "    }\n",
       "\n",
       "    .dataframe thead th {\n",
       "        text-align: right;\n",
       "    }\n",
       "</style>\n",
       "<table border=\"1\" class=\"dataframe\">\n",
       "  <thead>\n",
       "    <tr style=\"text-align: right;\">\n",
       "      <th></th>\n",
       "      <th>Book_title</th>\n",
       "      <th>amazon_rating</th>\n",
       "      <th>amazon_reviews count</th>\n",
       "      <th>amazon_price</th>\n",
       "      <th>Book_Author</th>\n",
       "      <th>flipkart_reviews count</th>\n",
       "      <th>flipkart_price</th>\n",
       "      <th>flipkart_rating</th>\n",
       "    </tr>\n",
       "  </thead>\n",
       "  <tbody>\n",
       "    <tr>\n",
       "      <th>0</th>\n",
       "      <td>Tell Me your Dreams</td>\n",
       "      <td>4.4</td>\n",
       "      <td>160.0</td>\n",
       "      <td>209</td>\n",
       "      <td>Sidney Sheldon</td>\n",
       "      <td>902</td>\n",
       "      <td>209</td>\n",
       "      <td>4.5</td>\n",
       "    </tr>\n",
       "  </tbody>\n",
       "</table>\n",
       "</div>"
      ],
      "text/plain": [
       "            Book_title  amazon_rating  amazon_reviews count  amazon_price  \\\n",
       "0  Tell Me your Dreams            4.4                 160.0           209   \n",
       "\n",
       "        Book_Author flipkart_reviews count  flipkart_price  flipkart_rating  \n",
       "0    Sidney Sheldon                    902             209              4.5  "
      ]
     },
     "execution_count": 68,
     "metadata": {},
     "output_type": "execute_result"
    }
   ],
   "source": [
    "joint_data_4.head(1)"
   ]
  },
  {
   "cell_type": "code",
   "execution_count": 69,
   "id": "a7472b35",
   "metadata": {},
   "outputs": [],
   "source": [
    "joint_data_5 = joint_data_4[[\"Book_title\", \"Book_Author\", \"amazon_rating\", \"flipkart_rating\", \"amazon_reviews count\", \"flipkart_reviews count\", \"amazon_price\", \"flipkart_price\"]]"
   ]
  },
  {
   "cell_type": "code",
   "execution_count": 70,
   "id": "ddc2f818",
   "metadata": {},
   "outputs": [
    {
     "data": {
      "text/html": [
       "<div>\n",
       "<style scoped>\n",
       "    .dataframe tbody tr th:only-of-type {\n",
       "        vertical-align: middle;\n",
       "    }\n",
       "\n",
       "    .dataframe tbody tr th {\n",
       "        vertical-align: top;\n",
       "    }\n",
       "\n",
       "    .dataframe thead th {\n",
       "        text-align: right;\n",
       "    }\n",
       "</style>\n",
       "<table border=\"1\" class=\"dataframe\">\n",
       "  <thead>\n",
       "    <tr style=\"text-align: right;\">\n",
       "      <th></th>\n",
       "      <th>Book_title</th>\n",
       "      <th>Book_Author</th>\n",
       "      <th>amazon_rating</th>\n",
       "      <th>flipkart_rating</th>\n",
       "      <th>amazon_reviews count</th>\n",
       "      <th>flipkart_reviews count</th>\n",
       "      <th>amazon_price</th>\n",
       "      <th>flipkart_price</th>\n",
       "    </tr>\n",
       "  </thead>\n",
       "  <tbody>\n",
       "    <tr>\n",
       "      <th>0</th>\n",
       "      <td>Tell Me your Dreams</td>\n",
       "      <td>Sidney Sheldon</td>\n",
       "      <td>4.4</td>\n",
       "      <td>4.5</td>\n",
       "      <td>160.0</td>\n",
       "      <td>902</td>\n",
       "      <td>209</td>\n",
       "      <td>209</td>\n",
       "    </tr>\n",
       "  </tbody>\n",
       "</table>\n",
       "</div>"
      ],
      "text/plain": [
       "            Book_title       Book_Author  amazon_rating  flipkart_rating  \\\n",
       "0  Tell Me your Dreams    Sidney Sheldon            4.4              4.5   \n",
       "\n",
       "   amazon_reviews count flipkart_reviews count  amazon_price  flipkart_price  \n",
       "0                 160.0                    902           209             209  "
      ]
     },
     "execution_count": 70,
     "metadata": {},
     "output_type": "execute_result"
    }
   ],
   "source": [
    "joint_data_5.head(1)"
   ]
  },
  {
   "cell_type": "code",
   "execution_count": 71,
   "id": "0fcf75e8",
   "metadata": {},
   "outputs": [
    {
     "data": {
      "text/html": [
       "<div>\n",
       "<style scoped>\n",
       "    .dataframe tbody tr th:only-of-type {\n",
       "        vertical-align: middle;\n",
       "    }\n",
       "\n",
       "    .dataframe tbody tr th {\n",
       "        vertical-align: top;\n",
       "    }\n",
       "\n",
       "    .dataframe thead th {\n",
       "        text-align: right;\n",
       "    }\n",
       "</style>\n",
       "<table border=\"1\" class=\"dataframe\">\n",
       "  <thead>\n",
       "    <tr style=\"text-align: right;\">\n",
       "      <th></th>\n",
       "      <th>amazon_rating</th>\n",
       "      <th>flipkart_rating</th>\n",
       "      <th>amazon_reviews count</th>\n",
       "      <th>amazon_price</th>\n",
       "      <th>flipkart_price</th>\n",
       "    </tr>\n",
       "  </thead>\n",
       "  <tbody>\n",
       "    <tr>\n",
       "      <th>count</th>\n",
       "      <td>638.000000</td>\n",
       "      <td>638.000000</td>\n",
       "      <td>638.000000</td>\n",
       "      <td>638.000000</td>\n",
       "      <td>638.000000</td>\n",
       "    </tr>\n",
       "    <tr>\n",
       "      <th>mean</th>\n",
       "      <td>4.273981</td>\n",
       "      <td>4.413480</td>\n",
       "      <td>213.815047</td>\n",
       "      <td>266.576803</td>\n",
       "      <td>275.296238</td>\n",
       "    </tr>\n",
       "    <tr>\n",
       "      <th>std</th>\n",
       "      <td>0.427449</td>\n",
       "      <td>0.215287</td>\n",
       "      <td>609.449094</td>\n",
       "      <td>154.643022</td>\n",
       "      <td>173.420683</td>\n",
       "    </tr>\n",
       "    <tr>\n",
       "      <th>min</th>\n",
       "      <td>1.000000</td>\n",
       "      <td>3.000000</td>\n",
       "      <td>1.000000</td>\n",
       "      <td>1.000000</td>\n",
       "      <td>50.000000</td>\n",
       "    </tr>\n",
       "    <tr>\n",
       "      <th>25%</th>\n",
       "      <td>4.100000</td>\n",
       "      <td>4.300000</td>\n",
       "      <td>23.000000</td>\n",
       "      <td>159.250000</td>\n",
       "      <td>159.000000</td>\n",
       "    </tr>\n",
       "    <tr>\n",
       "      <th>50%</th>\n",
       "      <td>4.300000</td>\n",
       "      <td>4.400000</td>\n",
       "      <td>62.500000</td>\n",
       "      <td>230.000000</td>\n",
       "      <td>230.000000</td>\n",
       "    </tr>\n",
       "    <tr>\n",
       "      <th>75%</th>\n",
       "      <td>4.500000</td>\n",
       "      <td>4.500000</td>\n",
       "      <td>180.000000</td>\n",
       "      <td>347.750000</td>\n",
       "      <td>343.500000</td>\n",
       "    </tr>\n",
       "    <tr>\n",
       "      <th>max</th>\n",
       "      <td>5.000000</td>\n",
       "      <td>5.000000</td>\n",
       "      <td>6566.000000</td>\n",
       "      <td>895.000000</td>\n",
       "      <td>1581.000000</td>\n",
       "    </tr>\n",
       "  </tbody>\n",
       "</table>\n",
       "</div>"
      ],
      "text/plain": [
       "       amazon_rating  flipkart_rating  amazon_reviews count  amazon_price  \\\n",
       "count     638.000000       638.000000            638.000000    638.000000   \n",
       "mean        4.273981         4.413480            213.815047    266.576803   \n",
       "std         0.427449         0.215287            609.449094    154.643022   \n",
       "min         1.000000         3.000000              1.000000      1.000000   \n",
       "25%         4.100000         4.300000             23.000000    159.250000   \n",
       "50%         4.300000         4.400000             62.500000    230.000000   \n",
       "75%         4.500000         4.500000            180.000000    347.750000   \n",
       "max         5.000000         5.000000           6566.000000    895.000000   \n",
       "\n",
       "       flipkart_price  \n",
       "count      638.000000  \n",
       "mean       275.296238  \n",
       "std        173.420683  \n",
       "min         50.000000  \n",
       "25%        159.000000  \n",
       "50%        230.000000  \n",
       "75%        343.500000  \n",
       "max       1581.000000  "
      ]
     },
     "execution_count": 71,
     "metadata": {},
     "output_type": "execute_result"
    }
   ],
   "source": [
    "joint_data_5.describe()"
   ]
  },
  {
   "cell_type": "code",
   "execution_count": 72,
   "id": "6dca8f3b",
   "metadata": {},
   "outputs": [
    {
     "name": "stdout",
     "output_type": "stream",
     "text": [
      "<class 'pandas.core.frame.DataFrame'>\n",
      "Int64Index: 638 entries, 0 to 4182\n",
      "Data columns (total 8 columns):\n",
      " #   Column                  Non-Null Count  Dtype  \n",
      "---  ------                  --------------  -----  \n",
      " 0   Book_title              638 non-null    object \n",
      " 1   Book_Author             638 non-null    object \n",
      " 2   amazon_rating           638 non-null    float64\n",
      " 3   flipkart_rating         638 non-null    float64\n",
      " 4   amazon_reviews count    638 non-null    float64\n",
      " 5   flipkart_reviews count  638 non-null    object \n",
      " 6   amazon_price            638 non-null    int64  \n",
      " 7   flipkart_price          638 non-null    int64  \n",
      "dtypes: float64(3), int64(2), object(3)\n",
      "memory usage: 44.9+ KB\n"
     ]
    }
   ],
   "source": [
    "joint_data_5.info()"
   ]
  },
  {
   "cell_type": "code",
   "execution_count": 73,
   "id": "7052e934",
   "metadata": {},
   "outputs": [],
   "source": [
    "joint_data_5['flipkart_reviews count'] = pd.to_numeric(joint_data_5['flipkart_reviews count'])"
   ]
  },
  {
   "cell_type": "code",
   "execution_count": 74,
   "id": "447061fb",
   "metadata": {},
   "outputs": [
    {
     "name": "stdout",
     "output_type": "stream",
     "text": [
      "<class 'pandas.core.frame.DataFrame'>\n",
      "Int64Index: 638 entries, 0 to 4182\n",
      "Data columns (total 8 columns):\n",
      " #   Column                  Non-Null Count  Dtype  \n",
      "---  ------                  --------------  -----  \n",
      " 0   Book_title              638 non-null    object \n",
      " 1   Book_Author             638 non-null    object \n",
      " 2   amazon_rating           638 non-null    float64\n",
      " 3   flipkart_rating         638 non-null    float64\n",
      " 4   amazon_reviews count    638 non-null    float64\n",
      " 5   flipkart_reviews count  638 non-null    int64  \n",
      " 6   amazon_price            638 non-null    int64  \n",
      " 7   flipkart_price          638 non-null    int64  \n",
      "dtypes: float64(3), int64(3), object(2)\n",
      "memory usage: 44.9+ KB\n"
     ]
    }
   ],
   "source": [
    "joint_data_5.info()"
   ]
  },
  {
   "cell_type": "code",
   "execution_count": 75,
   "id": "740292a9",
   "metadata": {},
   "outputs": [
    {
     "data": {
      "text/plain": [
       "Text(0.5, 1.0, 'Amazon Ratings Vs. Flipkart Ratings')"
      ]
     },
     "execution_count": 75,
     "metadata": {},
     "output_type": "execute_result"
    },
    {
     "data": {
      "image/png": "[encoded data removed]",
      "text/plain": [
       "<Figure size 1080x360 with 1 Axes>"
      ]
     },
     "metadata": {},
     "output_type": "display_data"
    }
   ],
   "source": [
    "plt.figure(figsize = (15,5))\n",
    "sns.set(style=\"whitegrid\")\n",
    "m = plt.hist(joint_data_5[\"amazon_rating\"],bins=60,fc = (0,0,1,0.7),label=\"Amazon Ratings\")\n",
    "b = plt.hist(joint_data_5[\"flipkart_rating\"],bins=60,fc = (0,1,0,0.6),label = \"Flipkart Ratings\")\n",
    "plt.legend()\n",
    "plt.xlabel(\"Range of Ratings\")\n",
    "plt.ylabel(\"Frequency\")\n",
    "plt.title(\"Amazon Ratings Vs. Flipkart Ratings\")"
   ]
  },
  {
   "cell_type": "markdown",
   "id": "68d986d6",
   "metadata": {},
   "source": [
    "# Amazon Ratings vs Flipkart Ratings"
   ]
  },
  {
   "cell_type": "code",
   "execution_count": 76,
   "id": "df44a0f2",
   "metadata": {},
   "outputs": [
    {
     "data": {
      "text/plain": [
       "Text(0.5, 1.0, 'Amazon Reviews Vs. Flipkart Reviews')"
      ]
     },
     "execution_count": 76,
     "metadata": {},
     "output_type": "execute_result"
    },
    {
     "data": {
      "image/png": "[encoded data removed]",
      "text/plain": [
       "<Figure size 1080x576 with 1 Axes>"
      ]
     },
     "metadata": {},
     "output_type": "display_data"
    }
   ],
   "source": [
    "plt.figure(figsize=(15,8))\n",
    "sns.set(style=\"darkgrid\")\n",
    "m = plt.hist(joint_data_5[\"amazon_reviews count\"],bins=300,fc = (0,0,1,0.7),label=\"Amazon Reviews\", histtype='stepfilled', range=[0,10000])\n",
    "b = plt.hist(joint_data_5[\"flipkart_reviews count\"],bins=300,fc = (0,1,0,0.6),label = \"Flipkart Reviews\", histtype='stepfilled', range=[0,10000])\n",
    "plt.legend()\n",
    "plt.xlabel(\"Reviews\")\n",
    "plt.ylabel(\"Frequency\")\n",
    "plt.title(\"Amazon Reviews Vs. Flipkart Reviews\")"
   ]
  },
  {
   "cell_type": "markdown",
   "id": "f9649cdd",
   "metadata": {},
   "source": [
    "# Amazon has higher count of reviews and flipkart has greater"
   ]
  },
  {
   "cell_type": "code",
   "execution_count": 77,
   "id": "a0b7bc14",
   "metadata": {},
   "outputs": [
    {
     "data": {
      "text/plain": [
       "<seaborn.axisgrid.JointGrid at 0x29f8292a8e0>"
      ]
     },
     "execution_count": 77,
     "metadata": {},
     "output_type": "execute_result"
    },
    {
     "data": {
      "image/png": "[encoded data removed]",
      "text/plain": [
       "<Figure size 432x432 with 3 Axes>"
      ]
     },
     "metadata": {},
     "output_type": "display_data"
    }
   ],
   "source": [
    "sns.set(style=\"darkgrid\")\n",
    "sns.jointplot(x=\"flipkart_rating\",y=\"flipkart_price\",data=joint_data_5)"
   ]
  },
  {
   "cell_type": "markdown",
   "id": "aa987800",
   "metadata": {},
   "source": [
    "# Most expensive books on Flipkart are rated between 4.25 and 4.75"
   ]
  },
  {
   "cell_type": "code",
   "execution_count": 78,
   "id": "a2859a7a",
   "metadata": {},
   "outputs": [
    {
     "data": {
      "text/plain": [
       "<seaborn.axisgrid.JointGrid at 0x29f829c5af0>"
      ]
     },
     "execution_count": 78,
     "metadata": {},
     "output_type": "execute_result"
    },
    {
     "data": {
      "image/png": "[encoded data removed]",
      "text/plain": [
       "<Figure size 432x432 with 3 Axes>"
      ]
     },
     "metadata": {},
     "output_type": "display_data"
    }
   ],
   "source": [
    "sns.set(style=\"darkgrid\")\n",
    "sns.jointplot(x=\"amazon_rating\",y=\"amazon_price\",data=joint_data_5)"
   ]
  },
  {
   "cell_type": "markdown",
   "id": "501921af",
   "metadata": {},
   "source": [
    "# Most expensive books on Amazon are rated between 3.5 and 4.7"
   ]
  },
  {
   "cell_type": "code",
   "execution_count": null,
   "id": "6fe339e5",
   "metadata": {},
   "outputs": [],
   "source": []
  }
 ],
 "metadata": {
  "kernelspec": {
   "display_name": "Python 3",
   "language": "python",
   "name": "python3"
  },
  "language_info": {
   "codemirror_mode": {
    "name": "ipython",
    "version": 3
   },
   "file_extension": ".py",
   "mimetype": "text/x-python",
   "name": "python",
   "nbconvert_exporter": "python",
   "pygments_lexer": "ipython3",
   "version": "3.8.8"
  }
 },
 "nbformat": 4,
 "nbformat_minor": 5
}
